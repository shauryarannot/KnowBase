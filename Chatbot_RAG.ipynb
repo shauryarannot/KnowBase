{
  "cells": [
    {
      "cell_type": "code",
      "execution_count": 1,
      "metadata": {
        "colab": {
          "base_uri": "https://localhost:8080/"
        },
        "id": "gXw9e5j0h2P9",
        "outputId": "07852d31-1659-4b9b-8b5f-d2a0582f5e13"
      },
      "outputs": [
        {
          "name": "stdout",
          "output_type": "stream",
          "text": [
            "\u001b[?25l   \u001b[90m━━━━━━━━━━━━━━━━━━━━━━━━━━━━━━━━━━━━━━━━\u001b[0m \u001b[32m0.0/225.4 kB\u001b[0m \u001b[31m?\u001b[0m eta \u001b[36m-:--:--\u001b[0m\r\u001b[2K   \u001b[91m━━━━━━━━━━━━━━━━━━━━━━━━━━━━━━━━━━━━━━━\u001b[0m\u001b[91m╸\u001b[0m \u001b[32m225.3/225.4 kB\u001b[0m \u001b[31m60.1 MB/s\u001b[0m eta \u001b[36m0:00:01\u001b[0m\r\u001b[2K   \u001b[90m━━━━━━━━━━━━━━━━━━━━━━━━━━━━━━━━━━━━━━━━\u001b[0m \u001b[32m225.4/225.4 kB\u001b[0m \u001b[31m5.5 MB/s\u001b[0m eta \u001b[36m0:00:00\u001b[0m\n",
            "\u001b[?25h\u001b[?25l   \u001b[90m━━━━━━━━━━━━━━━━━━━━━━━━━━━━━━━━━━━━━━━━\u001b[0m \u001b[32m0.0/211.0 kB\u001b[0m \u001b[31m?\u001b[0m eta \u001b[36m-:--:--\u001b[0m\r\u001b[2K   \u001b[90m━━━━━━━━━━━━━━━━━━━━━━━━━━━━━━━━━━━━━━━━\u001b[0m \u001b[32m211.0/211.0 kB\u001b[0m \u001b[31m8.1 MB/s\u001b[0m eta \u001b[36m0:00:00\u001b[0m\n",
            "\u001b[2K   \u001b[90m━━━━━━━━━━━━━━━━━━━━━━━━━━━━━━━━━━━━━━━━\u001b[0m \u001b[32m802.4/802.4 kB\u001b[0m \u001b[31m30.7 MB/s\u001b[0m eta \u001b[36m0:00:00\u001b[0m\n",
            "\u001b[2K   \u001b[90m━━━━━━━━━━━━━━━━━━━━━━━━━━━━━━━━━━━━━━━━\u001b[0m \u001b[32m1.6/1.6 MB\u001b[0m \u001b[31m40.7 MB/s\u001b[0m eta \u001b[36m0:00:00\u001b[0m\n",
            "\u001b[2K   \u001b[90m━━━━━━━━━━━━━━━━━━━━━━━━━━━━━━━━━━━━━━━━\u001b[0m \u001b[32m2.0/2.0 MB\u001b[0m \u001b[31m51.5 MB/s\u001b[0m eta \u001b[36m0:00:00\u001b[0m\n",
            "\u001b[2K   \u001b[90m━━━━━━━━━━━━━━━━━━━━━━━━━━━━━━━━━━━━━━━━\u001b[0m \u001b[32m474.6/474.6 kB\u001b[0m \u001b[31m28.1 MB/s\u001b[0m eta \u001b[36m0:00:00\u001b[0m\n",
            "\u001b[2K   \u001b[90m━━━━━━━━━━━━━━━━━━━━━━━━━━━━━━━━━━━━━━━━\u001b[0m \u001b[32m110.5/110.5 kB\u001b[0m \u001b[31m8.0 MB/s\u001b[0m eta \u001b[36m0:00:00\u001b[0m\n",
            "\u001b[2K   \u001b[90m━━━━━━━━━━━━━━━━━━━━━━━━━━━━━━━━━━━━━━━━\u001b[0m \u001b[32m76.4/76.4 kB\u001b[0m \u001b[31m6.3 MB/s\u001b[0m eta \u001b[36m0:00:00\u001b[0m\n",
            "\u001b[2K   \u001b[90m━━━━━━━━━━━━━━━━━━━━━━━━━━━━━━━━━━━━━━━━\u001b[0m \u001b[32m78.0/78.0 kB\u001b[0m \u001b[31m5.7 MB/s\u001b[0m eta \u001b[36m0:00:00\u001b[0m\n",
            "\u001b[2K   \u001b[90m━━━━━━━━━━━━━━━━━━━━━━━━━━━━━━━━━━━━━━━━\u001b[0m \u001b[32m241.2/241.2 kB\u001b[0m \u001b[31m17.6 MB/s\u001b[0m eta \u001b[36m0:00:00\u001b[0m\n",
            "\u001b[2K   \u001b[90m━━━━━━━━━━━━━━━━━━━━━━━━━━━━━━━━━━━━━━━━\u001b[0m \u001b[32m55.4/55.4 kB\u001b[0m \u001b[31m3.8 MB/s\u001b[0m eta \u001b[36m0:00:00\u001b[0m\n",
            "\u001b[2K   \u001b[90m━━━━━━━━━━━━━━━━━━━━━━━━━━━━━━━━━━━━━━━━\u001b[0m \u001b[32m53.0/53.0 kB\u001b[0m \u001b[31m3.5 MB/s\u001b[0m eta \u001b[36m0:00:00\u001b[0m\n",
            "\u001b[2K   \u001b[90m━━━━━━━━━━━━━━━━━━━━━━━━━━━━━━━━━━━━━━━━\u001b[0m \u001b[32m134.3/134.3 kB\u001b[0m \u001b[31m9.5 MB/s\u001b[0m eta \u001b[36m0:00:00\u001b[0m\n",
            "\u001b[2K   \u001b[90m━━━━━━━━━━━━━━━━━━━━━━━━━━━━━━━━━━━━━━━━\u001b[0m \u001b[32m194.1/194.1 kB\u001b[0m \u001b[31m12.3 MB/s\u001b[0m eta \u001b[36m0:00:00\u001b[0m\n",
            "\u001b[2K   \u001b[90m━━━━━━━━━━━━━━━━━━━━━━━━━━━━━━━━━━━━━━━━\u001b[0m \u001b[32m49.5/49.5 kB\u001b[0m \u001b[31m3.6 MB/s\u001b[0m eta \u001b[36m0:00:00\u001b[0m\n",
            "\u001b[2K   \u001b[90m━━━━━━━━━━━━━━━━━━━━━━━━━━━━━━━━━━━━━━━━\u001b[0m \u001b[32m58.3/58.3 kB\u001b[0m \u001b[31m4.3 MB/s\u001b[0m eta \u001b[36m0:00:00\u001b[0m\n",
            "\u001b[?25h"
          ]
        }
      ],
      "source": [
        "!pip install -qU \\\n",
        "    openai==1.6.1 \\\n",
        "    pinecone-client==3.1.0 \\\n",
        "    langchain==0.1.1 \\\n",
        "    langchain-community==0.0.13 \\\n",
        "    tiktoken==0.5.2 \\\n",
        "    datasets==2.12.0"
      ]
    },
    {
      "cell_type": "markdown",
      "metadata": {
        "id": "M2gE0uhVutFA"
      },
      "source": [
        "## Read the data\n"
      ]
    },
    {
      "cell_type": "code",
      "execution_count": 5,
      "metadata": {
        "colab": {
          "base_uri": "https://localhost:8080/",
          "height": 209
        },
        "id": "Y5qfkzBJjF5m",
        "outputId": "40959a5f-499a-4812-ee79-2c5f93304c12"
      },
      "outputs": [
        {
          "data": {
            "text/html": [
              "<div>\n",
              "<style scoped>\n",
              "    .dataframe tbody tr th:only-of-type {\n",
              "        vertical-align: middle;\n",
              "    }\n",
              "\n",
              "    .dataframe tbody tr th {\n",
              "        vertical-align: top;\n",
              "    }\n",
              "\n",
              "    .dataframe thead th {\n",
              "        text-align: right;\n",
              "    }\n",
              "</style>\n",
              "<table border=\"1\" class=\"dataframe\">\n",
              "  <thead>\n",
              "    <tr style=\"text-align: right;\">\n",
              "      <th></th>\n",
              "      <th>content</th>\n",
              "    </tr>\n",
              "  </thead>\n",
              "  <tbody>\n",
              "    <tr>\n",
              "      <th>0</th>\n",
              "      <td>{'_id': '66fa7a2c7ec1e7d625410fbb', 'title': '...</td>\n",
              "    </tr>\n",
              "    <tr>\n",
              "      <th>1</th>\n",
              "      <td>{'_id': '66fa7c5d1946bd66b6ca6651', 'title': '...</td>\n",
              "    </tr>\n",
              "    <tr>\n",
              "      <th>2</th>\n",
              "      <td>{'_id': '670faff79df99b81b50b2b8a', 'title': '...</td>\n",
              "    </tr>\n",
              "    <tr>\n",
              "      <th>3</th>\n",
              "      <td>{'_id': '670fb1039df99b81b50b2b8e', 'title': '...</td>\n",
              "    </tr>\n",
              "  </tbody>\n",
              "</table>\n",
              "</div><br><label><b>dtype:</b> object</label>"
            ],
            "text/plain": [
              "0    {'_id': '66fa7a2c7ec1e7d625410fbb', 'title': '...\n",
              "1    {'_id': '66fa7c5d1946bd66b6ca6651', 'title': '...\n",
              "2    {'_id': '670faff79df99b81b50b2b8a', 'title': '...\n",
              "3    {'_id': '670fb1039df99b81b50b2b8e', 'title': '...\n",
              "Name: content, dtype: object"
            ]
          },
          "execution_count": 5,
          "metadata": {},
          "output_type": "execute_result"
        }
      ],
      "source": [
        "import pandas as pd\n",
        "data = pd.read_json('/content/course.json')\n",
        "data['content']"
      ]
    },
    {
      "cell_type": "code",
      "execution_count": 6,
      "metadata": {
        "colab": {
          "base_uri": "https://localhost:8080/",
          "height": 53
        },
        "id": "WovZMhAGvh4T",
        "outputId": "a64616d8-393c-44f5-aa19-f83b5825828c"
      },
      "outputs": [
        {
          "data": {
            "application/vnd.google.colaboratory.intrinsic+json": {
              "repr_error": "Out of range float values are not JSON compliant: nan",
              "type": "dataframe",
              "variable_name": "df"
            },
            "text/html": [
              "\n",
              "  <div id=\"df-65c50b61-d105-43c0-a2b6-93cfd7e952c6\" class=\"colab-df-container\">\n",
              "    <div>\n",
              "<style scoped>\n",
              "    .dataframe tbody tr th:only-of-type {\n",
              "        vertical-align: middle;\n",
              "    }\n",
              "\n",
              "    .dataframe tbody tr th {\n",
              "        vertical-align: top;\n",
              "    }\n",
              "\n",
              "    .dataframe thead th {\n",
              "        text-align: right;\n",
              "    }\n",
              "</style>\n",
              "<table border=\"1\" class=\"dataframe\">\n",
              "  <thead>\n",
              "    <tr style=\"text-align: right;\">\n",
              "      <th></th>\n",
              "      <th>campus</th>\n",
              "      <th>campus_description</th>\n",
              "      <th>course</th>\n",
              "      <th>course_description</th>\n",
              "    </tr>\n",
              "  </thead>\n",
              "  <tbody>\n",
              "  </tbody>\n",
              "</table>\n",
              "</div>\n",
              "    <div class=\"colab-df-buttons\">\n",
              "\n",
              "  <div class=\"colab-df-container\">\n",
              "    <button class=\"colab-df-convert\" onclick=\"convertToInteractive('df-65c50b61-d105-43c0-a2b6-93cfd7e952c6')\"\n",
              "            title=\"Convert this dataframe to an interactive table.\"\n",
              "            style=\"display:none;\">\n",
              "\n",
              "  <svg xmlns=\"http://www.w3.org/2000/svg\" height=\"24px\" viewBox=\"0 -960 960 960\">\n",
              "    <path d=\"M120-120v-720h720v720H120Zm60-500h600v-160H180v160Zm220 220h160v-160H400v160Zm0 220h160v-160H400v160ZM180-400h160v-160H180v160Zm440 0h160v-160H620v160ZM180-180h160v-160H180v160Zm440 0h160v-160H620v160Z\"/>\n",
              "  </svg>\n",
              "    </button>\n",
              "\n",
              "  <style>\n",
              "    .colab-df-container {\n",
              "      display:flex;\n",
              "      gap: 12px;\n",
              "    }\n",
              "\n",
              "    .colab-df-convert {\n",
              "      background-color: #E8F0FE;\n",
              "      border: none;\n",
              "      border-radius: 50%;\n",
              "      cursor: pointer;\n",
              "      display: none;\n",
              "      fill: #1967D2;\n",
              "      height: 32px;\n",
              "      padding: 0 0 0 0;\n",
              "      width: 32px;\n",
              "    }\n",
              "\n",
              "    .colab-df-convert:hover {\n",
              "      background-color: #E2EBFA;\n",
              "      box-shadow: 0px 1px 2px rgba(60, 64, 67, 0.3), 0px 1px 3px 1px rgba(60, 64, 67, 0.15);\n",
              "      fill: #174EA6;\n",
              "    }\n",
              "\n",
              "    .colab-df-buttons div {\n",
              "      margin-bottom: 4px;\n",
              "    }\n",
              "\n",
              "    [theme=dark] .colab-df-convert {\n",
              "      background-color: #3B4455;\n",
              "      fill: #D2E3FC;\n",
              "    }\n",
              "\n",
              "    [theme=dark] .colab-df-convert:hover {\n",
              "      background-color: #434B5C;\n",
              "      box-shadow: 0px 1px 3px 1px rgba(0, 0, 0, 0.15);\n",
              "      filter: drop-shadow(0px 1px 2px rgba(0, 0, 0, 0.3));\n",
              "      fill: #FFFFFF;\n",
              "    }\n",
              "  </style>\n",
              "\n",
              "    <script>\n",
              "      const buttonEl =\n",
              "        document.querySelector('#df-65c50b61-d105-43c0-a2b6-93cfd7e952c6 button.colab-df-convert');\n",
              "      buttonEl.style.display =\n",
              "        google.colab.kernel.accessAllowed ? 'block' : 'none';\n",
              "\n",
              "      async function convertToInteractive(key) {\n",
              "        const element = document.querySelector('#df-65c50b61-d105-43c0-a2b6-93cfd7e952c6');\n",
              "        const dataTable =\n",
              "          await google.colab.kernel.invokeFunction('convertToInteractive',\n",
              "                                                    [key], {});\n",
              "        if (!dataTable) return;\n",
              "\n",
              "        const docLinkHtml = 'Like what you see? Visit the ' +\n",
              "          '<a target=\"_blank\" href=https://colab.research.google.com/notebooks/data_table.ipynb>data table notebook</a>'\n",
              "          + ' to learn more about interactive tables.';\n",
              "        element.innerHTML = '';\n",
              "        dataTable['output_type'] = 'display_data';\n",
              "        await google.colab.output.renderOutput(dataTable, element);\n",
              "        const docLink = document.createElement('div');\n",
              "        docLink.innerHTML = docLinkHtml;\n",
              "        element.appendChild(docLink);\n",
              "      }\n",
              "    </script>\n",
              "  </div>\n",
              "\n",
              "\n",
              "    </div>\n",
              "  </div>\n"
            ],
            "text/plain": [
              "Empty DataFrame\n",
              "Columns: [campus, campus_description, course, course_description]\n",
              "Index: []"
            ]
          },
          "execution_count": 6,
          "metadata": {},
          "output_type": "execute_result"
        }
      ],
      "source": [
        "df = pd.DataFrame(columns=['campus','campus_description','course','course_description'])\n",
        "df.head()"
      ]
    },
    {
      "cell_type": "code",
      "execution_count": 7,
      "metadata": {
        "colab": {
          "base_uri": "https://localhost:8080/"
        },
        "id": "ahcosX3GLgIb",
        "outputId": "147950a9-2023-425a-ead3-4af8b55f6797"
      },
      "outputs": [
        {
          "name": "stdout",
          "output_type": "stream",
          "text": [
            "{'_id': '66fa7a2c7ec1e7d625410fbb', 'title': 'CLIENT ACQUISITION', 'description': 'Design courses that focus on leveraging social media platforms to attract, engage, and retain clients', 'bannerImg': 'https://moneyminds-media-files.s3.us-east-1.amazonaws.com/uploads/1727691306378_Social%20media%20marketing.jpg', 'iconImg': 'https://moneyminds-media-files.s3.us-east-1.amazonaws.com/uploads/1727691306447_SM%20marketing.jpg', 'members': [], 'following': [], 'isActive': True, 'courses': [{'_id': '66faa1895254999e15e76941', 'title': 'Building a Brand on Social Media', 'description': 'Strategies to create and maintain a strong brand presence on social media platforms.', 'bannerImg': None, 'campus': '66fa7a2c7ec1e7d625410fbb', 'modules': [{'_id': '66fbeeed7a1b2855222bc1e5', 'title': 'Effective Copywriting for Social Media', 'description': 'Discover tips for writing compelling and concise social media posts to capture attention.', 'course': '66faa1895254999e15e76941', 'campus': '66fa7a2c7ec1e7d625410fbb', 'lessons': [], '__v': 0, 'createdAt': '2024-10-01T12:45:33.227Z', 'updatedAt': '2024-10-01T12:45:33.227Z'}, {'_id': '66fbeeed7a1b2855222bc1e4', 'title': 'Developing a Content Calendar', 'description': 'Learn to create a content calendar that aligns with your marketing goals and target audience.', 'course': '66faa1895254999e15e76941', 'campus': '66fa7a2c7ec1e7d625410fbb', 'lessons': [], '__v': 0, 'createdAt': '2024-10-01T12:45:33.227Z', 'updatedAt': '2024-10-01T12:45:33.227Z'}, {'_id': '66fbeeed7a1b2855222bc1e3', 'title': 'Social Media Engagement Strategies', 'description': 'Learn techniques to engage your audience, encouraging more likes, shares, and comments.', 'course': '66faa1895254999e15e76941', 'campus': '66fa7a2c7ec1e7d625410fbb', 'lessons': [], '__v': 0, 'createdAt': '2024-10-01T12:45:33.226Z', 'updatedAt': '2024-10-01T12:45:33.226Z'}], '__v': 0, 'createdAt': '2024-09-30T13:03:05.635Z', 'updatedAt': '2024-10-01T12:45:33.458Z'}, {'_id': '66faa1895254999e15e76940', 'title': 'Social Media Advertising and Paid Campaigns', 'description': 'Setting up and managing social media ad campaigns and targeting clients using audience insights and demographics.', 'bannerImg': None, 'campus': '66fa7a2c7ec1e7d625410fbb', 'modules': [{'_id': '66fbeeed7a1b2855222bc1e2', 'title': 'Targeting Audiences', 'description': 'Understand how to target the right audience using insights and demographics.', 'course': '66faa1895254999e15e76940', 'campus': '66fa7a2c7ec1e7d625410fbb', 'lessons': [], '__v': 0, 'createdAt': '2024-10-01T12:45:33.226Z', 'updatedAt': '2024-10-01T12:45:33.226Z'}, {'_id': '66fbeeed7a1b2855222bc1e1', 'title': 'Creating Effective Ad Campaigns', 'description': 'Learn how to set up, budget, and optimize social media ad campaigns to maximize engagement.', 'course': '66faa1895254999e15e76940', 'campus': '66fa7a2c7ec1e7d625410fbb', 'lessons': [], '__v': 0, 'createdAt': '2024-10-01T12:45:33.226Z', 'updatedAt': '2024-10-01T12:45:33.226Z'}, {'_id': '66fbeeed7a1b2855222bc1e0', 'title': 'Introduction to Social Media Advertising', 'description': 'Learn the basics of paid social media advertising, covering platforms, ad types, and targeting strategies.', 'course': '66faa1895254999e15e76940', 'campus': '66fa7a2c7ec1e7d625410fbb', 'lessons': [], '__v': 0, 'createdAt': '2024-10-01T12:45:33.225Z', 'updatedAt': '2024-10-01T12:45:33.225Z'}], '__v': 0, 'createdAt': '2024-09-30T13:03:05.634Z', 'updatedAt': '2024-10-01T12:45:33.457Z'}, {'_id': '66faa1895254999e15e76943', 'title': 'Analytics and Metrics for Social Media', 'description': 'Understanding social media analytics to measure and improve performance.', 'bannerImg': None, 'campus': '66fa7a2c7ec1e7d625410fbb', 'modules': [{'_id': '66fbeeed7a1b2855222bc1e9', 'title': 'Analyzing Social Media Metrics', 'description': 'Understand key metrics like reach, engagement, and conversion rates to assess campaign success.', 'course': '66faa1895254999e15e76943', 'campus': '66fa7a2c7ec1e7d625410fbb', 'lessons': [], '__v': 0, 'createdAt': '2024-10-01T12:45:33.227Z', 'updatedAt': '2024-10-01T12:45:33.227Z'}, {'_id': '66fbeeed7a1b2855222bc1ea', 'title': 'Introduction to Influencer Marketing', 'description': 'Learn how to work with influencers to boost brand visibility and trust.', 'course': '66faa1895254999e15e76943', 'campus': '66fa7a2c7ec1e7d625410fbb', 'lessons': [], '__v': 0, 'createdAt': '2024-10-01T12:45:33.227Z', 'updatedAt': '2024-10-01T12:45:33.227Z'}, {'_id': '66fbeeed7a1b2855222bc1eb', 'title': 'Mastering Instagram for Business', 'description': 'Unlock the full potential of Instagram to grow your business and engage with your audience.', 'course': '66faa1895254999e15e76943', 'campus': '66fa7a2c7ec1e7d625410fbb', 'lessons': [], '__v': 0, 'createdAt': '2024-10-01T12:45:33.227Z', 'updatedAt': '2024-10-01T12:45:33.227Z'}], '__v': 0, 'createdAt': '2024-09-30T13:03:05.635Z', 'updatedAt': '2024-10-01T12:45:33.458Z'}, {'_id': '66faa1895254999e15e76942', 'title': 'Content Creation for Social Media', 'description': 'Learn how to create engaging content tailored for various social media platforms.', 'bannerImg': None, 'campus': '66fa7a2c7ec1e7d625410fbb', 'modules': [{'_id': '66fbeeed7a1b2855222bc1e6', 'title': 'Building a Brand Voice', 'description': 'Establish a consistent brand voice that resonates with your audience across all platforms.', 'course': '66faa1895254999e15e76942', 'campus': '66fa7a2c7ec1e7d625410fbb', 'lessons': [], '__v': 0, 'createdAt': '2024-10-01T12:45:33.227Z', 'updatedAt': '2024-10-01T12:45:33.227Z'}, {'_id': '66fbeeed7a1b2855222bc1e8', 'title': 'Video Content for Social Media', 'description': 'Learn how to create engaging video content tailored to each social media platform.', 'course': '66faa1895254999e15e76942', 'campus': '66fa7a2c7ec1e7d625410fbb', 'lessons': [], '__v': 0, 'createdAt': '2024-10-01T12:45:33.227Z', 'updatedAt': '2024-10-01T12:45:33.227Z'}, {'_id': '66fbeeed7a1b2855222bc1e7', 'title': 'Social Media Trends and Tools', 'description': 'Stay updated on the latest social media trends and learn how to utilize new tools effectively.', 'course': '66faa1895254999e15e76942', 'campus': '66fa7a2c7ec1e7d625410fbb', 'lessons': [], '__v': 0, 'createdAt': '2024-10-01T12:45:33.227Z', 'updatedAt': '2024-10-01T12:45:33.227Z'}], '__v': 0, 'createdAt': '2024-09-30T13:03:05.635Z', 'updatedAt': '2024-10-01T12:45:33.458Z'}, {'_id': '66faa1895254999e15e76946', 'title': 'Influencer Marketing Strategies', 'description': \"Leveraging influencers to amplify your brand's reach and engagement.\", 'bannerImg': None, 'campus': '66fa7a2c7ec1e7d625410fbb', 'modules': [{'_id': '66fbeeed7a1b2855222bc1f2', 'title': 'Ethics in Social Media Marketing', 'description': 'Understand the ethical considerations in social media marketing, including data privacy and transparency.', 'course': '66faa1895254999e15e76946', 'campus': '66fa7a2c7ec1e7d625410fbb', 'lessons': [], '__v': 0, 'createdAt': '2024-10-01T12:45:33.227Z', 'updatedAt': '2024-10-01T12:45:33.227Z'}, {'_id': '66fbeeed7a1b2855222bc1f4', 'title': 'Content Repurposing Across Platforms', 'description': 'Repurpose content to fit the strengths of each social media platform and expand your reach.', 'course': '66faa1895254999e15e76946', 'campus': '66fa7a2c7ec1e7d625410fbb', 'lessons': [], '__v': 0, 'createdAt': '2024-10-01T12:45:33.228Z', 'updatedAt': '2024-10-01T12:45:33.228Z'}, {'_id': '66fbeeed7a1b2855222bc1f3', 'title': 'Social Media ROI Tracking', 'description': 'Track the return on investment (ROI) of your social media campaigns with advanced tools.', 'course': '66faa1895254999e15e76946', 'campus': '66fa7a2c7ec1e7d625410fbb', 'lessons': [], '__v': 0, 'createdAt': '2024-10-01T12:45:33.228Z', 'updatedAt': '2024-10-01T12:45:33.228Z'}], '__v': 0, 'createdAt': '2024-09-30T13:03:05.635Z', 'updatedAt': '2024-10-01T12:45:33.458Z'}, {'_id': '66faa1895254999e15e76944', 'title': 'Engagement Strategies on Social Media', 'description': 'Techniques to boost engagement and interaction with your audience.', 'bannerImg': None, 'campus': '66fa7a2c7ec1e7d625410fbb', 'modules': [{'_id': '66fbeeed7a1b2855222bc1ed', 'title': 'LinkedIn for Client Acquisition', 'description': 'Build professional relationships and generate leads through LinkedIn marketing.', 'course': '66faa1895254999e15e76944', 'campus': '66fa7a2c7ec1e7d625410fbb', 'lessons': [], '__v': 0, 'createdAt': '2024-10-01T12:45:33.227Z', 'updatedAt': '2024-10-01T12:45:33.227Z'}, {'_id': '66fbeeed7a1b2855222bc1ec', 'title': 'Utilizing Facebook Ads', 'description': 'Create, manage, and optimize Facebook ad campaigns for better ROI.', 'course': '66faa1895254999e15e76944', 'campus': '66fa7a2c7ec1e7d625410fbb', 'lessons': [], '__v': 0, 'createdAt': '2024-10-01T12:45:33.227Z', 'updatedAt': '2024-10-01T12:45:33.227Z'}, {'_id': '66fbeeed7a1b2855222bc1ee', 'title': 'Twitter as a Marketing Tool', 'description': 'Leverage Twitter to communicate with clients, build brand awareness, and generate leads.', 'course': '66faa1895254999e15e76944', 'campus': '66fa7a2c7ec1e7d625410fbb', 'lessons': [], '__v': 0, 'createdAt': '2024-10-01T12:45:33.227Z', 'updatedAt': '2024-10-01T12:45:33.227Z'}], '__v': 0, 'createdAt': '2024-09-30T13:03:05.635Z', 'updatedAt': '2024-10-01T12:45:33.458Z'}, {'_id': '66faa1895254999e15e76945', 'title': 'Social Media Crisis Management', 'description': 'How to handle crises and negative feedback on social media platforms.', 'bannerImg': None, 'campus': '66fa7a2c7ec1e7d625410fbb', 'modules': [{'_id': '66fbeeed7a1b2855222bc1ef', 'title': 'Managing Multiple Social Media Accounts', 'description': 'Learn how to manage multiple accounts and maintain brand consistency across platforms.', 'course': '66faa1895254999e15e76945', 'campus': '66fa7a2c7ec1e7d625410fbb', 'lessons': [], '__v': 0, 'createdAt': '2024-10-01T12:45:33.227Z', 'updatedAt': '2024-10-01T12:45:33.227Z'}, {'_id': '66fbeeed7a1b2855222bc1f0', 'title': 'Effective Social Media Crisis Management', 'description': \"Prepare for and handle crises on social media to protect your brand's reputation.\", 'course': '66faa1895254999e15e76945', 'campus': '66fa7a2c7ec1e7d625410fbb', 'lessons': [], '__v': 0, 'createdAt': '2024-10-01T12:45:33.227Z', 'updatedAt': '2024-10-01T12:45:33.227Z'}, {'_id': '66fbeeed7a1b2855222bc1f1', 'title': 'Running Competitions and Giveaways', 'description': 'Learn how to run successful social media contests to engage your audience and attract new followers.', 'course': '66faa1895254999e15e76945', 'campus': '66fa7a2c7ec1e7d625410fbb', 'lessons': [], '__v': 0, 'createdAt': '2024-10-01T12:45:33.227Z', 'updatedAt': '2024-10-01T12:45:33.227Z'}], '__v': 0, 'createdAt': '2024-09-30T13:03:05.635Z', 'updatedAt': '2024-10-01T12:45:33.458Z'}, {'_id': '66faa1895254999e15e7694a', 'title': 'Developing a Social Media Strategy', 'description': 'How to create a comprehensive social media strategy for your business.', 'bannerImg': None, 'campus': '66fa7a2c7ec1e7d625410fbb', 'modules': [], '__v': 0, 'createdAt': '2024-09-30T13:03:05.635Z', 'updatedAt': '2024-09-30T13:03:05.635Z'}, {'_id': '66faa1895254999e15e76949', 'title': 'Social Media and E-Commerce Integration', 'description': 'Integrating social media strategies with e-commerce for better sales.', 'bannerImg': None, 'campus': '66fa7a2c7ec1e7d625410fbb', 'modules': [], '__v': 0, 'createdAt': '2024-09-30T13:03:05.635Z', 'updatedAt': '2024-09-30T13:03:05.635Z'}, {'_id': '66faa1895254999e15e7694b', 'title': 'Visual Storytelling for Social Media', 'description': 'The art of storytelling through images and videos on social media platforms.', 'bannerImg': None, 'campus': '66fa7a2c7ec1e7d625410fbb', 'modules': [], '__v': 0, 'createdAt': '2024-09-30T13:03:05.635Z', 'updatedAt': '2024-09-30T13:03:05.635Z'}, {'_id': '66faa1895254999e15e7694d', 'title': 'Understanding Target Audiences', 'description': 'Identifying and understanding your target audience on social media.', 'bannerImg': None, 'campus': '66fa7a2c7ec1e7d625410fbb', 'modules': [], '__v': 0, 'createdAt': '2024-09-30T13:03:05.636Z', 'updatedAt': '2024-09-30T13:03:05.636Z'}, {'_id': '66faa1895254999e15e7694e', 'title': 'Video Marketing on Social Media', 'description': 'Strategies for effective video marketing across social media platforms.', 'bannerImg': None, 'campus': '66fa7a2c7ec1e7d625410fbb', 'modules': [], '__v': 0, 'createdAt': '2024-09-30T13:03:05.636Z', 'updatedAt': '2024-09-30T13:03:05.636Z'}, {'_id': '66faa1895254999e15e7694c', 'title': 'Optimizing Social Media Profiles', 'description': 'Techniques to optimize your social media profiles for maximum visibility.', 'bannerImg': None, 'campus': '66fa7a2c7ec1e7d625410fbb', 'modules': [], '__v': 0, 'createdAt': '2024-09-30T13:03:05.636Z', 'updatedAt': '2024-09-30T13:03:05.636Z'}, {'_id': '66faa1895254999e15e7694f', 'title': 'User-Generated Content Strategies', 'description': 'Leveraging user-generated content to enhance brand trust and engagement.', 'bannerImg': None, 'campus': '66fa7a2c7ec1e7d625410fbb', 'modules': [], '__v': 0, 'createdAt': '2024-09-30T13:03:05.636Z', 'updatedAt': '2024-09-30T13:03:05.636Z'}, {'_id': '66faa1895254999e15e76950', 'title': 'Social Media for Nonprofits', 'description': 'Effective social media strategies tailored for nonprofit organizations.', 'bannerImg': None, 'campus': '66fa7a2c7ec1e7d625410fbb', 'modules': [], '__v': 0, 'createdAt': '2024-09-30T13:03:05.636Z', 'updatedAt': '2024-09-30T13:03:05.636Z'}, {'_id': '66faa1895254999e15e76951', 'title': 'Email Marketing and Social Media', 'description': 'Integrating email marketing with social media efforts for better outreach.', 'bannerImg': None, 'campus': '66fa7a2c7ec1e7d625410fbb', 'modules': [], '__v': 0, 'createdAt': '2024-09-30T13:03:05.636Z', 'updatedAt': '2024-09-30T13:03:05.636Z'}, {'_id': '66faa1895254999e15e76952', 'title': 'Social Listening and Monitoring', 'description': 'Using tools to monitor social media mentions and audience sentiment.', 'bannerImg': None, 'campus': '66fa7a2c7ec1e7d625410fbb', 'modules': [], '__v': 0, 'createdAt': '2024-09-30T13:03:05.636Z', 'updatedAt': '2024-09-30T13:03:05.636Z'}, {'_id': '66faa1895254999e15e76953', 'title': 'The Future of Social Media Marketing', 'description': 'Trends and predictions for the future of social media marketing.', 'bannerImg': None, 'campus': '66fa7a2c7ec1e7d625410fbb', 'modules': [], '__v': 0, 'createdAt': '2024-09-30T13:03:05.636Z', 'updatedAt': '2024-09-30T13:03:05.636Z'}, {'_id': '66faa1895254999e15e76954', 'title': 'Personal Branding on Social Media', 'description': 'Building a personal brand and leveraging it on social media.', 'bannerImg': None, 'campus': '66fa7a2c7ec1e7d625410fbb', 'modules': [], '__v': 0, 'createdAt': '2024-09-30T13:03:05.636Z', 'updatedAt': '2024-09-30T13:03:05.636Z'}, {'_id': '66faa1895254999e15e76955', 'title': 'Social Media for Small Businesses', 'description': 'Effective social media marketing strategies for small businesses.', 'bannerImg': None, 'campus': '66fa7a2c7ec1e7d625410fbb', 'modules': [], '__v': 0, 'createdAt': '2024-09-30T13:03:05.636Z', 'updatedAt': '2024-09-30T13:03:05.636Z'}, {'_id': '66faa1895254999e15e76947', 'title': 'Creating Viral Content', 'description': 'Techniques to create content that has the potential to go viral on social media.', 'bannerImg': None, 'campus': '66fa7a2c7ec1e7d625410fbb', 'modules': [{'_id': '66fbeeed7a1b2855222bc1f5', 'title': 'Social Media for Local Businesses', 'description': 'Learn how local businesses can use social media to increase brand visibility and attract customers.', 'course': '66faa1895254999e15e76947', 'campus': '66fa7a2c7ec1e7d625410fbb', 'lessons': [], '__v': 0, 'createdAt': '2024-10-01T12:45:33.228Z', 'updatedAt': '2024-10-01T12:45:33.228Z'}, {'_id': '66fbeeed7a1b2855222bc1f6', 'title': 'Utilizing Social Media for Customer Service', 'description': 'Explore how to offer exceptional customer service through social media platforms.', 'course': '66faa1895254999e15e76947', 'campus': '66fa7a2c7ec1e7d625410fbb', 'lessons': [], '__v': 0, 'createdAt': '2024-10-01T12:45:33.228Z', 'updatedAt': '2024-10-01T12:45:33.228Z'}, {'_id': '66fbeeed7a1b2855222bc1f7', 'title': 'Paid vs Organic Social Media Strategies', 'description': 'Compare and integrate paid and organic strategies to maximize your social media impact.', 'course': '66faa1895254999e15e76947', 'campus': '66fa7a2c7ec1e7d625410fbb', 'lessons': [], '__v': 0, 'createdAt': '2024-10-01T12:45:33.228Z', 'updatedAt': '2024-10-01T12:45:33.228Z'}], '__v': 0, 'createdAt': '2024-09-30T13:03:05.635Z', 'updatedAt': '2024-10-01T12:45:33.458Z'}, {'_id': '66faa1895254999e15e76948', 'title': 'Legal Considerations in Social Media', 'description': 'Understanding copyright, privacy, and legal issues in social media marketing.', 'bannerImg': None, 'campus': '66fa7a2c7ec1e7d625410fbb', 'modules': [], '__v': 0, 'createdAt': '2024-09-30T13:03:05.635Z', 'updatedAt': '2024-09-30T13:03:05.635Z'}], 'channels': [], 'createdAt': '2024-09-30T10:15:08.140Z', 'updatedAt': '2024-09-30T13:03:05.893Z', '__v': 0}\n",
            "{'_id': '66fa7c5d1946bd66b6ca6651', 'title': 'QUICK CASH', 'description': 'Learn everything about how to earn quick cash', 'bannerImg': 'https://moneyminds-media-files.s3.us-east-1.amazonaws.com/uploads/1727691859549_artistry-banner.jpg', 'iconImg': 'https://moneyminds-media-files.s3.us-east-1.amazonaws.com/uploads/1727691859558_artistry-icon.jpg', 'members': [], 'following': [], 'isActive': True, 'courses': [{'_id': '66faa1b6d235dd2fdcc590e8', 'title': 'Understanding Art Techniques', 'description': 'Learn about various art techniques and mediums used by artists.', 'bannerImg': None, 'campus': '66fa7c5d1946bd66b6ca6651', 'modules': [{'_id': '66fbeeed7a1b2855222bc1fb', 'title': 'Color Theory for Artists', 'description': 'Dive into color theory to learn how to create harmonious and impactful color schemes.', 'course': '66faa1b6d235dd2fdcc590e8', 'campus': '66fa7c5d1946bd66b6ca6651', 'lessons': [], '__v': 0, 'createdAt': '2024-10-01T12:45:33.228Z', 'updatedAt': '2024-10-01T12:45:33.228Z'}, {'_id': '66fbeeed7a1b2855222bc1fa', 'title': 'Exploring Digital Art Tools', 'description': 'Explore the latest digital art tools and software for beginners and professionals alike.', 'course': '66faa1b6d235dd2fdcc590e8', 'campus': '66fa7c5d1946bd66b6ca6651', 'lessons': [], '__v': 0, 'createdAt': '2024-10-01T12:45:33.228Z', 'updatedAt': '2024-10-01T12:45:33.228Z'}, {'_id': '66fbeeed7a1b2855222bc1fc', 'title': 'Character Design Basics', 'description': 'Learn the essential principles of character design, from anatomy to unique styling.', 'course': '66faa1b6d235dd2fdcc590e8', 'campus': '66fa7c5d1946bd66b6ca6651', 'lessons': [], '__v': 0, 'createdAt': '2024-10-01T12:45:33.228Z', 'updatedAt': '2024-10-01T12:45:33.228Z'}], '__v': 0, 'createdAt': '2024-09-30T13:03:50.804Z', 'updatedAt': '2024-10-01T12:45:33.458Z'}, {'_id': '66faa1b6d235dd2fdcc590e9', 'title': 'Digital Art Fundamentals', 'description': 'An introduction to creating art using digital tools and software.', 'bannerImg': None, 'campus': '66fa7c5d1946bd66b6ca6651', 'modules': [{'_id': '66fbeeed7a1b2855222bc1ff', 'title': 'Art Composition Principles', 'description': 'Understand how to balance and structure artwork for a visually appealing composition.', 'course': '66faa1b6d235dd2fdcc590e9', 'campus': '66fa7c5d1946bd66b6ca6651', 'lessons': [], '__v': 0, 'createdAt': '2024-10-01T12:45:33.228Z', 'updatedAt': '2024-10-01T12:45:33.228Z'}, {'_id': '66fbeeed7a1b2855222bc1fd', 'title': 'Advanced Portrait Drawing', 'description': 'Enhance your portrait-drawing skills by mastering facial proportions and expressions.', 'course': '66faa1b6d235dd2fdcc590e9', 'campus': '66fa7c5d1946bd66b6ca6651', 'lessons': [], '__v': 0, 'createdAt': '2024-10-01T12:45:33.228Z', 'updatedAt': '2024-10-01T12:45:33.228Z'}, {'_id': '66fbeeed7a1b2855222bc1fe', 'title': 'Watercolor Techniques', 'description': 'Experiment with different watercolor techniques to create expressive artwork.', 'course': '66faa1b6d235dd2fdcc590e9', 'campus': '66fa7c5d1946bd66b6ca6651', 'lessons': [], '__v': 0, 'createdAt': '2024-10-01T12:45:33.228Z', 'updatedAt': '2024-10-01T12:45:33.228Z'}], '__v': 0, 'createdAt': '2024-09-30T13:03:50.804Z', 'updatedAt': '2024-10-01T12:45:33.458Z'}, {'_id': '66faa1b6d235dd2fdcc590ed', 'title': 'Sculpture Techniques', 'description': 'Introduction to various sculpture techniques and materials.', 'bannerImg': None, 'campus': '66fa7c5d1946bd66b6ca6651', 'modules': [], '__v': 0, 'createdAt': '2024-09-30T13:03:50.804Z', 'updatedAt': '2024-09-30T13:03:50.804Z'}, {'_id': '66faa1b6d235dd2fdcc590e7', 'title': 'Art History: From Ancient to Modern', 'description': 'Explore the evolution of art through different historical periods.', 'bannerImg': None, 'campus': '66fa7c5d1946bd66b6ca6651', 'modules': [{'_id': '66fbeeed7a1b2855222bc1f8', 'title': 'Basic Sketching Techniques', 'description': 'Learn the fundamentals of sketching, including shading, perspective, and line work.', 'course': '66faa1b6d235dd2fdcc590e7', 'campus': '66fa7c5d1946bd66b6ca6651', 'lessons': [], '__v': 0, 'createdAt': '2024-10-01T12:45:33.228Z', 'updatedAt': '2024-10-01T12:45:33.228Z'}, {'_id': '66fbeeed7a1b2855222bc1f9', 'title': 'Drawing Still Life', 'description': 'Practice drawing still-life compositions to improve observation skills.', 'course': '66faa1b6d235dd2fdcc590e7', 'campus': '66fa7c5d1946bd66b6ca6651', 'lessons': [], '__v': 0, 'createdAt': '2024-10-01T12:45:33.228Z', 'updatedAt': '2024-10-01T12:45:33.228Z'}], '__v': 0, 'createdAt': '2024-09-30T13:03:50.803Z', 'updatedAt': '2024-10-01T12:45:33.458Z'}, {'_id': '66faa1b6d235dd2fdcc590ea', 'title': 'Exploring Contemporary Art', 'description': 'Study the key movements and artists in contemporary art.', 'bannerImg': None, 'campus': '66fa7c5d1946bd66b6ca6651', 'modules': [], '__v': 0, 'createdAt': '2024-09-30T13:03:50.804Z', 'updatedAt': '2024-09-30T13:03:50.804Z'}, {'_id': '66faa1b6d235dd2fdcc590eb', 'title': 'Art and Society', 'description': 'How art reflects and influences societal changes.', 'bannerImg': None, 'campus': '66fa7c5d1946bd66b6ca6651', 'modules': [], '__v': 0, 'createdAt': '2024-09-30T13:03:50.804Z', 'updatedAt': '2024-09-30T13:03:50.804Z'}, {'_id': '66faa1b6d235dd2fdcc590ec', 'title': 'Photography Basics', 'description': 'Learn the fundamentals of photography and composition.', 'bannerImg': None, 'campus': '66fa7c5d1946bd66b6ca6651', 'modules': [], '__v': 0, 'createdAt': '2024-09-30T13:03:50.804Z', 'updatedAt': '2024-09-30T13:03:50.804Z'}, {'_id': '66faa1b6d235dd2fdcc590f1', 'title': 'Drawing Fundamentals', 'description': 'Basic techniques and principles of drawing.', 'bannerImg': None, 'campus': '66fa7c5d1946bd66b6ca6651', 'modules': [], '__v': 0, 'createdAt': '2024-09-30T13:03:50.805Z', 'updatedAt': '2024-09-30T13:03:50.805Z'}, {'_id': '66faa1b6d235dd2fdcc590f0', 'title': 'Art in the Digital Age', 'description': 'Exploring the impact of technology on art and creative expression.', 'bannerImg': None, 'campus': '66fa7c5d1946bd66b6ca6651', 'modules': [], '__v': 0, 'createdAt': '2024-09-30T13:03:50.804Z', 'updatedAt': '2024-09-30T13:03:50.804Z'}, {'_id': '66faa1b6d235dd2fdcc590f2', 'title': 'Illustration Techniques', 'description': 'Learn the art of illustration and visual storytelling.', 'bannerImg': None, 'campus': '66fa7c5d1946bd66b6ca6651', 'modules': [], '__v': 0, 'createdAt': '2024-09-30T13:03:50.805Z', 'updatedAt': '2024-09-30T13:03:50.805Z'}, {'_id': '66faa1b6d235dd2fdcc590f3', 'title': 'Cultural Perspectives in Art', 'description': 'Understanding how different cultures influence artistic expression.', 'bannerImg': None, 'campus': '66fa7c5d1946bd66b6ca6651', 'modules': [], '__v': 0, 'createdAt': '2024-09-30T13:03:50.805Z', 'updatedAt': '2024-09-30T13:03:50.805Z'}, {'_id': '66faa1b6d235dd2fdcc590f4', 'title': 'Mixed Media Art', 'description': 'Creating art using a combination of different materials and techniques.', 'bannerImg': None, 'campus': '66fa7c5d1946bd66b6ca6651', 'modules': [], '__v': 0, 'createdAt': '2024-09-30T13:03:50.805Z', 'updatedAt': '2024-09-30T13:03:50.805Z'}, {'_id': '66faa1b6d235dd2fdcc590f6', 'title': 'Fashion Illustration', 'description': 'Techniques for illustrating fashion and textiles.', 'bannerImg': None, 'campus': '66fa7c5d1946bd66b6ca6651', 'modules': [], '__v': 0, 'createdAt': '2024-09-30T13:03:50.805Z', 'updatedAt': '2024-09-30T13:03:50.805Z'}, {'_id': '66faa1b6d235dd2fdcc590f5', 'title': 'Art as Activism', 'description': 'Exploring the role of art in social and political movements.', 'bannerImg': None, 'campus': '66fa7c5d1946bd66b6ca6651', 'modules': [], '__v': 0, 'createdAt': '2024-09-30T13:03:50.805Z', 'updatedAt': '2024-09-30T13:03:50.805Z'}, {'_id': '66faa1b6d235dd2fdcc590f8', 'title': 'Crafting with Purpose', 'description': 'Creating art with a focus on sustainability and social impact.', 'bannerImg': None, 'campus': '66fa7c5d1946bd66b6ca6651', 'modules': [], '__v': 0, 'createdAt': '2024-09-30T13:03:50.805Z', 'updatedAt': '2024-09-30T13:03:50.805Z'}, {'_id': '66faa1b6d235dd2fdcc590f7', 'title': 'Art and Emotion', 'description': 'Understanding how art can evoke emotional responses.', 'bannerImg': None, 'campus': '66fa7c5d1946bd66b6ca6651', 'modules': [], '__v': 0, 'createdAt': '2024-09-30T13:03:50.805Z', 'updatedAt': '2024-09-30T13:03:50.805Z'}, {'_id': '66faa1b6d235dd2fdcc590f9', 'title': 'Exploring Art Careers', 'description': 'Understanding various career paths in the art world.', 'bannerImg': None, 'campus': '66fa7c5d1946bd66b6ca6651', 'modules': [], '__v': 0, 'createdAt': '2024-09-30T13:03:50.805Z', 'updatedAt': '2024-09-30T13:03:50.805Z'}, {'_id': '66faa1b6d235dd2fdcc590ee', 'title': 'Art Criticism and Theory', 'description': 'Developing critical thinking skills related to art analysis.', 'bannerImg': None, 'campus': '66fa7c5d1946bd66b6ca6651', 'modules': [], '__v': 0, 'createdAt': '2024-09-30T13:03:50.804Z', 'updatedAt': '2024-09-30T13:03:50.804Z'}, {'_id': '66faa1b6d235dd2fdcc590ef', 'title': 'Color Theory', 'description': 'Understanding the color wheel and how to use color effectively in art.', 'bannerImg': None, 'campus': '66fa7c5d1946bd66b6ca6651', 'modules': [], '__v': 0, 'createdAt': '2024-09-30T13:03:50.804Z', 'updatedAt': '2024-09-30T13:03:50.804Z'}], 'channels': [], 'createdAt': '2024-09-30T10:24:29.900Z', 'updatedAt': '2024-09-30T13:03:51.055Z', '__v': 0}\n",
            "{'_id': '670faff79df99b81b50b2b8a', 'title': 'BUSINESS LITERACY ', 'description': 'Learn everything about business', 'bannerImg': 'https://moneyminds-media-files.s3.us-east-1.amazonaws.com/uploads/1729081333385_business-literacy-banner.avif', 'iconImg': 'https://moneyminds-media-files.s3.us-east-1.amazonaws.com/uploads/1729081333468_business-literacy-banner.avif', 'owner': '66fe33fdcde4d543dfe9ef53', 'members': [], 'following': [], 'isActive': True, 'courses': [], 'channels': [], 'createdAt': '2024-10-16T12:22:15.432Z', 'updatedAt': '2024-10-16T12:22:15.432Z', '__v': 0}\n",
            "{'_id': '670fb1039df99b81b50b2b8e', 'title': 'ECOM', 'description': 'Learn everything about e-commerce business', 'bannerImg': 'https://moneyminds-media-files.s3.us-east-1.amazonaws.com/uploads/1729081601926_ecom-banner.jpg', 'iconImg': 'https://moneyminds-media-files.s3.us-east-1.amazonaws.com/uploads/1729081601926_ecom-icon.jpg', 'owner': '66fe33fdcde4d543dfe9ef53', 'members': [], 'following': [], 'isActive': True, 'courses': [], 'channels': [], 'createdAt': '2024-10-16T12:26:43.623Z', 'updatedAt': '2024-10-16T12:26:43.623Z', '__v': 0}\n"
          ]
        }
      ],
      "source": [
        "for campus in data['content'] :\n",
        "  print(campus)\n",
        "\n",
        "for course in campus['courses'] :\n",
        "  print(course)\n",
        "\n",
        "for module in course['modules'] :\n",
        "  print(module)"
      ]
    },
    {
      "cell_type": "code",
      "execution_count": 8,
      "metadata": {
        "colab": {
          "base_uri": "https://localhost:8080/",
          "height": 345
        },
        "id": "YsEX6pB3u_8K",
        "outputId": "19522d1f-e600-4230-f0f8-84f0a8a86af5"
      },
      "outputs": [
        {
          "data": {
            "application/vnd.google.colaboratory.intrinsic+json": {
              "summary": "{\n  \"name\": \"df\",\n  \"rows\": 32,\n  \"fields\": [\n    {\n      \"column\": \"campus\",\n      \"properties\": {\n        \"dtype\": \"category\",\n        \"num_unique_values\": 2,\n        \"samples\": [\n          \"QUICK CASH\",\n          \"CLIENT ACQUISITION\"\n        ],\n        \"semantic_type\": \"\",\n        \"description\": \"\"\n      }\n    },\n    {\n      \"column\": \"campus_description\",\n      \"properties\": {\n        \"dtype\": \"category\",\n        \"num_unique_values\": 2,\n        \"samples\": [\n          \"Learn everything about how to earn quick cash\",\n          \"Design courses that focus on leveraging social media platforms to attract, engage, and retain clients\"\n        ],\n        \"semantic_type\": \"\",\n        \"description\": \"\"\n      }\n    },\n    {\n      \"column\": \"course\",\n      \"properties\": {\n        \"dtype\": \"category\",\n        \"num_unique_values\": 11,\n        \"samples\": [\n          \"Engagement Strategies on Social Media\",\n          \"Building a Brand on Social Media\"\n        ],\n        \"semantic_type\": \"\",\n        \"description\": \"\"\n      }\n    },\n    {\n      \"column\": \"course_description\",\n      \"properties\": {\n        \"dtype\": \"category\",\n        \"num_unique_values\": 11,\n        \"samples\": [\n          \"Techniques to boost engagement and interaction with your audience.\",\n          \"Strategies to create and maintain a strong brand presence on social media platforms.\"\n        ],\n        \"semantic_type\": \"\",\n        \"description\": \"\"\n      }\n    },\n    {\n      \"column\": \"module\",\n      \"properties\": {\n        \"dtype\": \"string\",\n        \"num_unique_values\": 32,\n        \"samples\": [\n          \"Watercolor Techniques\",\n          \"LinkedIn for Client Acquisition\"\n        ],\n        \"semantic_type\": \"\",\n        \"description\": \"\"\n      }\n    },\n    {\n      \"column\": \"module_description\",\n      \"properties\": {\n        \"dtype\": \"string\",\n        \"num_unique_values\": 32,\n        \"samples\": [\n          \"Experiment with different watercolor techniques to create expressive artwork.\",\n          \"Build professional relationships and generate leads through LinkedIn marketing.\"\n        ],\n        \"semantic_type\": \"\",\n        \"description\": \"\"\n      }\n    }\n  ]\n}",
              "type": "dataframe",
              "variable_name": "df"
            },
            "text/html": [
              "\n",
              "  <div id=\"df-f8eb66c1-6c8d-4685-99cb-51d179767a9d\" class=\"colab-df-container\">\n",
              "    <div>\n",
              "<style scoped>\n",
              "    .dataframe tbody tr th:only-of-type {\n",
              "        vertical-align: middle;\n",
              "    }\n",
              "\n",
              "    .dataframe tbody tr th {\n",
              "        vertical-align: top;\n",
              "    }\n",
              "\n",
              "    .dataframe thead th {\n",
              "        text-align: right;\n",
              "    }\n",
              "</style>\n",
              "<table border=\"1\" class=\"dataframe\">\n",
              "  <thead>\n",
              "    <tr style=\"text-align: right;\">\n",
              "      <th></th>\n",
              "      <th>campus</th>\n",
              "      <th>campus_description</th>\n",
              "      <th>course</th>\n",
              "      <th>course_description</th>\n",
              "      <th>module</th>\n",
              "      <th>module_description</th>\n",
              "    </tr>\n",
              "  </thead>\n",
              "  <tbody>\n",
              "    <tr>\n",
              "      <th>0</th>\n",
              "      <td>CLIENT ACQUISITION</td>\n",
              "      <td>Design courses that focus on leveraging social...</td>\n",
              "      <td>Building a Brand on Social Media</td>\n",
              "      <td>Strategies to create and maintain a strong bra...</td>\n",
              "      <td>Effective Copywriting for Social Media</td>\n",
              "      <td>Discover tips for writing compelling and conci...</td>\n",
              "    </tr>\n",
              "    <tr>\n",
              "      <th>1</th>\n",
              "      <td>CLIENT ACQUISITION</td>\n",
              "      <td>Design courses that focus on leveraging social...</td>\n",
              "      <td>Building a Brand on Social Media</td>\n",
              "      <td>Strategies to create and maintain a strong bra...</td>\n",
              "      <td>Developing a Content Calendar</td>\n",
              "      <td>Learn to create a content calendar that aligns...</td>\n",
              "    </tr>\n",
              "    <tr>\n",
              "      <th>2</th>\n",
              "      <td>CLIENT ACQUISITION</td>\n",
              "      <td>Design courses that focus on leveraging social...</td>\n",
              "      <td>Building a Brand on Social Media</td>\n",
              "      <td>Strategies to create and maintain a strong bra...</td>\n",
              "      <td>Social Media Engagement Strategies</td>\n",
              "      <td>Learn techniques to engage your audience, enco...</td>\n",
              "    </tr>\n",
              "    <tr>\n",
              "      <th>3</th>\n",
              "      <td>CLIENT ACQUISITION</td>\n",
              "      <td>Design courses that focus on leveraging social...</td>\n",
              "      <td>Social Media Advertising and Paid Campaigns</td>\n",
              "      <td>Setting up and managing social media ad campai...</td>\n",
              "      <td>Targeting Audiences</td>\n",
              "      <td>Understand how to target the right audience us...</td>\n",
              "    </tr>\n",
              "    <tr>\n",
              "      <th>4</th>\n",
              "      <td>CLIENT ACQUISITION</td>\n",
              "      <td>Design courses that focus on leveraging social...</td>\n",
              "      <td>Social Media Advertising and Paid Campaigns</td>\n",
              "      <td>Setting up and managing social media ad campai...</td>\n",
              "      <td>Creating Effective Ad Campaigns</td>\n",
              "      <td>Learn how to set up, budget, and optimize soci...</td>\n",
              "    </tr>\n",
              "  </tbody>\n",
              "</table>\n",
              "</div>\n",
              "    <div class=\"colab-df-buttons\">\n",
              "\n",
              "  <div class=\"colab-df-container\">\n",
              "    <button class=\"colab-df-convert\" onclick=\"convertToInteractive('df-f8eb66c1-6c8d-4685-99cb-51d179767a9d')\"\n",
              "            title=\"Convert this dataframe to an interactive table.\"\n",
              "            style=\"display:none;\">\n",
              "\n",
              "  <svg xmlns=\"http://www.w3.org/2000/svg\" height=\"24px\" viewBox=\"0 -960 960 960\">\n",
              "    <path d=\"M120-120v-720h720v720H120Zm60-500h600v-160H180v160Zm220 220h160v-160H400v160Zm0 220h160v-160H400v160ZM180-400h160v-160H180v160Zm440 0h160v-160H620v160ZM180-180h160v-160H180v160Zm440 0h160v-160H620v160Z\"/>\n",
              "  </svg>\n",
              "    </button>\n",
              "\n",
              "  <style>\n",
              "    .colab-df-container {\n",
              "      display:flex;\n",
              "      gap: 12px;\n",
              "    }\n",
              "\n",
              "    .colab-df-convert {\n",
              "      background-color: #E8F0FE;\n",
              "      border: none;\n",
              "      border-radius: 50%;\n",
              "      cursor: pointer;\n",
              "      display: none;\n",
              "      fill: #1967D2;\n",
              "      height: 32px;\n",
              "      padding: 0 0 0 0;\n",
              "      width: 32px;\n",
              "    }\n",
              "\n",
              "    .colab-df-convert:hover {\n",
              "      background-color: #E2EBFA;\n",
              "      box-shadow: 0px 1px 2px rgba(60, 64, 67, 0.3), 0px 1px 3px 1px rgba(60, 64, 67, 0.15);\n",
              "      fill: #174EA6;\n",
              "    }\n",
              "\n",
              "    .colab-df-buttons div {\n",
              "      margin-bottom: 4px;\n",
              "    }\n",
              "\n",
              "    [theme=dark] .colab-df-convert {\n",
              "      background-color: #3B4455;\n",
              "      fill: #D2E3FC;\n",
              "    }\n",
              "\n",
              "    [theme=dark] .colab-df-convert:hover {\n",
              "      background-color: #434B5C;\n",
              "      box-shadow: 0px 1px 3px 1px rgba(0, 0, 0, 0.15);\n",
              "      filter: drop-shadow(0px 1px 2px rgba(0, 0, 0, 0.3));\n",
              "      fill: #FFFFFF;\n",
              "    }\n",
              "  </style>\n",
              "\n",
              "    <script>\n",
              "      const buttonEl =\n",
              "        document.querySelector('#df-f8eb66c1-6c8d-4685-99cb-51d179767a9d button.colab-df-convert');\n",
              "      buttonEl.style.display =\n",
              "        google.colab.kernel.accessAllowed ? 'block' : 'none';\n",
              "\n",
              "      async function convertToInteractive(key) {\n",
              "        const element = document.querySelector('#df-f8eb66c1-6c8d-4685-99cb-51d179767a9d');\n",
              "        const dataTable =\n",
              "          await google.colab.kernel.invokeFunction('convertToInteractive',\n",
              "                                                    [key], {});\n",
              "        if (!dataTable) return;\n",
              "\n",
              "        const docLinkHtml = 'Like what you see? Visit the ' +\n",
              "          '<a target=\"_blank\" href=https://colab.research.google.com/notebooks/data_table.ipynb>data table notebook</a>'\n",
              "          + ' to learn more about interactive tables.';\n",
              "        element.innerHTML = '';\n",
              "        dataTable['output_type'] = 'display_data';\n",
              "        await google.colab.output.renderOutput(dataTable, element);\n",
              "        const docLink = document.createElement('div');\n",
              "        docLink.innerHTML = docLinkHtml;\n",
              "        element.appendChild(docLink);\n",
              "      }\n",
              "    </script>\n",
              "  </div>\n",
              "\n",
              "\n",
              "<div id=\"df-b3ecc207-4066-4e14-8b61-a2be7829efe1\">\n",
              "  <button class=\"colab-df-quickchart\" onclick=\"quickchart('df-b3ecc207-4066-4e14-8b61-a2be7829efe1')\"\n",
              "            title=\"Suggest charts\"\n",
              "            style=\"display:none;\">\n",
              "\n",
              "<svg xmlns=\"http://www.w3.org/2000/svg\" height=\"24px\"viewBox=\"0 0 24 24\"\n",
              "     width=\"24px\">\n",
              "    <g>\n",
              "        <path d=\"M19 3H5c-1.1 0-2 .9-2 2v14c0 1.1.9 2 2 2h14c1.1 0 2-.9 2-2V5c0-1.1-.9-2-2-2zM9 17H7v-7h2v7zm4 0h-2V7h2v10zm4 0h-2v-4h2v4z\"/>\n",
              "    </g>\n",
              "</svg>\n",
              "  </button>\n",
              "\n",
              "<style>\n",
              "  .colab-df-quickchart {\n",
              "      --bg-color: #E8F0FE;\n",
              "      --fill-color: #1967D2;\n",
              "      --hover-bg-color: #E2EBFA;\n",
              "      --hover-fill-color: #174EA6;\n",
              "      --disabled-fill-color: #AAA;\n",
              "      --disabled-bg-color: #DDD;\n",
              "  }\n",
              "\n",
              "  [theme=dark] .colab-df-quickchart {\n",
              "      --bg-color: #3B4455;\n",
              "      --fill-color: #D2E3FC;\n",
              "      --hover-bg-color: #434B5C;\n",
              "      --hover-fill-color: #FFFFFF;\n",
              "      --disabled-bg-color: #3B4455;\n",
              "      --disabled-fill-color: #666;\n",
              "  }\n",
              "\n",
              "  .colab-df-quickchart {\n",
              "    background-color: var(--bg-color);\n",
              "    border: none;\n",
              "    border-radius: 50%;\n",
              "    cursor: pointer;\n",
              "    display: none;\n",
              "    fill: var(--fill-color);\n",
              "    height: 32px;\n",
              "    padding: 0;\n",
              "    width: 32px;\n",
              "  }\n",
              "\n",
              "  .colab-df-quickchart:hover {\n",
              "    background-color: var(--hover-bg-color);\n",
              "    box-shadow: 0 1px 2px rgba(60, 64, 67, 0.3), 0 1px 3px 1px rgba(60, 64, 67, 0.15);\n",
              "    fill: var(--button-hover-fill-color);\n",
              "  }\n",
              "\n",
              "  .colab-df-quickchart-complete:disabled,\n",
              "  .colab-df-quickchart-complete:disabled:hover {\n",
              "    background-color: var(--disabled-bg-color);\n",
              "    fill: var(--disabled-fill-color);\n",
              "    box-shadow: none;\n",
              "  }\n",
              "\n",
              "  .colab-df-spinner {\n",
              "    border: 2px solid var(--fill-color);\n",
              "    border-color: transparent;\n",
              "    border-bottom-color: var(--fill-color);\n",
              "    animation:\n",
              "      spin 1s steps(1) infinite;\n",
              "  }\n",
              "\n",
              "  @keyframes spin {\n",
              "    0% {\n",
              "      border-color: transparent;\n",
              "      border-bottom-color: var(--fill-color);\n",
              "      border-left-color: var(--fill-color);\n",
              "    }\n",
              "    20% {\n",
              "      border-color: transparent;\n",
              "      border-left-color: var(--fill-color);\n",
              "      border-top-color: var(--fill-color);\n",
              "    }\n",
              "    30% {\n",
              "      border-color: transparent;\n",
              "      border-left-color: var(--fill-color);\n",
              "      border-top-color: var(--fill-color);\n",
              "      border-right-color: var(--fill-color);\n",
              "    }\n",
              "    40% {\n",
              "      border-color: transparent;\n",
              "      border-right-color: var(--fill-color);\n",
              "      border-top-color: var(--fill-color);\n",
              "    }\n",
              "    60% {\n",
              "      border-color: transparent;\n",
              "      border-right-color: var(--fill-color);\n",
              "    }\n",
              "    80% {\n",
              "      border-color: transparent;\n",
              "      border-right-color: var(--fill-color);\n",
              "      border-bottom-color: var(--fill-color);\n",
              "    }\n",
              "    90% {\n",
              "      border-color: transparent;\n",
              "      border-bottom-color: var(--fill-color);\n",
              "    }\n",
              "  }\n",
              "</style>\n",
              "\n",
              "  <script>\n",
              "    async function quickchart(key) {\n",
              "      const quickchartButtonEl =\n",
              "        document.querySelector('#' + key + ' button');\n",
              "      quickchartButtonEl.disabled = true;  // To prevent multiple clicks.\n",
              "      quickchartButtonEl.classList.add('colab-df-spinner');\n",
              "      try {\n",
              "        const charts = await google.colab.kernel.invokeFunction(\n",
              "            'suggestCharts', [key], {});\n",
              "      } catch (error) {\n",
              "        console.error('Error during call to suggestCharts:', error);\n",
              "      }\n",
              "      quickchartButtonEl.classList.remove('colab-df-spinner');\n",
              "      quickchartButtonEl.classList.add('colab-df-quickchart-complete');\n",
              "    }\n",
              "    (() => {\n",
              "      let quickchartButtonEl =\n",
              "        document.querySelector('#df-b3ecc207-4066-4e14-8b61-a2be7829efe1 button');\n",
              "      quickchartButtonEl.style.display =\n",
              "        google.colab.kernel.accessAllowed ? 'block' : 'none';\n",
              "    })();\n",
              "  </script>\n",
              "</div>\n",
              "\n",
              "    </div>\n",
              "  </div>\n"
            ],
            "text/plain": [
              "               campus                                 campus_description  \\\n",
              "0  CLIENT ACQUISITION  Design courses that focus on leveraging social...   \n",
              "1  CLIENT ACQUISITION  Design courses that focus on leveraging social...   \n",
              "2  CLIENT ACQUISITION  Design courses that focus on leveraging social...   \n",
              "3  CLIENT ACQUISITION  Design courses that focus on leveraging social...   \n",
              "4  CLIENT ACQUISITION  Design courses that focus on leveraging social...   \n",
              "\n",
              "                                        course  \\\n",
              "0             Building a Brand on Social Media   \n",
              "1             Building a Brand on Social Media   \n",
              "2             Building a Brand on Social Media   \n",
              "3  Social Media Advertising and Paid Campaigns   \n",
              "4  Social Media Advertising and Paid Campaigns   \n",
              "\n",
              "                                  course_description  \\\n",
              "0  Strategies to create and maintain a strong bra...   \n",
              "1  Strategies to create and maintain a strong bra...   \n",
              "2  Strategies to create and maintain a strong bra...   \n",
              "3  Setting up and managing social media ad campai...   \n",
              "4  Setting up and managing social media ad campai...   \n",
              "\n",
              "                                   module  \\\n",
              "0  Effective Copywriting for Social Media   \n",
              "1           Developing a Content Calendar   \n",
              "2      Social Media Engagement Strategies   \n",
              "3                     Targeting Audiences   \n",
              "4         Creating Effective Ad Campaigns   \n",
              "\n",
              "                                  module_description  \n",
              "0  Discover tips for writing compelling and conci...  \n",
              "1  Learn to create a content calendar that aligns...  \n",
              "2  Learn techniques to engage your audience, enco...  \n",
              "3  Understand how to target the right audience us...  \n",
              "4  Learn how to set up, budget, and optimize soci...  "
            ]
          },
          "execution_count": 8,
          "metadata": {},
          "output_type": "execute_result"
        }
      ],
      "source": [
        "data_rows = [\n",
        "    {\n",
        "        'campus': campus['title'],\n",
        "        'campus_description': campus['description'],\n",
        "        'course': course['title'],\n",
        "        'course_description': course['description'],\n",
        "        'module': module['title'],\n",
        "        'module_description': module['description']\n",
        "    }\n",
        "    for campus in data['content']\n",
        "    for course in campus['courses']\n",
        "    for module in course['modules']\n",
        "]\n",
        "df = pd.DataFrame(data_rows)\n",
        "df.head()\n"
      ]
    },
    {
      "cell_type": "code",
      "execution_count": 9,
      "metadata": {
        "colab": {
          "base_uri": "https://localhost:8080/"
        },
        "id": "T0L7u5qQ6SFA",
        "outputId": "f63100fa-b096-44ac-b947-19f08a7565e8"
      },
      "outputs": [
        {
          "name": "stderr",
          "output_type": "stream",
          "text": [
            "<ipython-input-9-f79d5a213654>:4: FutureWarning: ChainedAssignmentError: behaviour will change in pandas 3.0!\n",
            "You are setting values through chained assignment. Currently this works in certain cases, but when using Copy-on-Write (which will become the default behaviour in pandas 3.0) this will never work to update the original DataFrame or Series, because the intermediate object on which we are setting values will behave as a copy.\n",
            "A typical example is when you are setting values in a column of a DataFrame, like:\n",
            "\n",
            "df[\"col\"][row_indexer] = value\n",
            "\n",
            "Use `df.loc[row_indexer, \"col\"] = values` instead, to perform the assignment in a single step and ensure this keeps updating the original `df`.\n",
            "\n",
            "See the caveats in the documentation: https://pandas.pydata.org/pandas-docs/stable/user_guide/indexing.html#returning-a-view-versus-a-copy\n",
            "\n",
            "  df['campus_description'][description] += '. Courses avaliable in this campus are ' + grouped_courses[grouped_courses['campus'] == df['campus'][description]]['course'].values[0]\n"
          ]
        }
      ],
      "source": [
        "grouped_courses = df.groupby('campus')['course'].apply(lambda x: ', '.join(x)).reset_index()\n",
        "# grouped_courses.head()\n",
        "for description in range(len(df['campus_description'])) :\n",
        "    df['campus_description'][description] += '. Courses avaliable in this campus are ' + grouped_courses[grouped_courses['campus'] == df['campus'][description]]['course'].values[0]"
      ]
    },
    {
      "cell_type": "code",
      "execution_count": 10,
      "metadata": {
        "colab": {
          "base_uri": "https://localhost:8080/"
        },
        "id": "kDe1wmlXMYnB",
        "outputId": "dfd89953-d038-4a09-9531-f033619ace43"
      },
      "outputs": [
        {
          "name": "stderr",
          "output_type": "stream",
          "text": [
            "<ipython-input-10-ceb868353c7a>:4: FutureWarning: ChainedAssignmentError: behaviour will change in pandas 3.0!\n",
            "You are setting values through chained assignment. Currently this works in certain cases, but when using Copy-on-Write (which will become the default behaviour in pandas 3.0) this will never work to update the original DataFrame or Series, because the intermediate object on which we are setting values will behave as a copy.\n",
            "A typical example is when you are setting values in a column of a DataFrame, like:\n",
            "\n",
            "df[\"col\"][row_indexer] = value\n",
            "\n",
            "Use `df.loc[row_indexer, \"col\"] = values` instead, to perform the assignment in a single step and ensure this keeps updating the original `df`.\n",
            "\n",
            "See the caveats in the documentation: https://pandas.pydata.org/pandas-docs/stable/user_guide/indexing.html#returning-a-view-versus-a-copy\n",
            "\n",
            "  df['course_description'][description] += '. Modules avaliable in this course are ' + grouped_modules[grouped_modules['course'] == df['course'][description]]['module'].values[0]\n"
          ]
        }
      ],
      "source": [
        "grouped_modules = df.groupby('course')['module'].apply(lambda x: ', '.join(x)).reset_index()\n",
        "# grouped_courses.head()\n",
        "for description in range(len(df['course_description'])) :\n",
        "    df['course_description'][description] += '. Modules avaliable in this course are ' + grouped_modules[grouped_modules['course'] == df['course'][description]]['module'].values[0]"
      ]
    },
    {
      "cell_type": "code",
      "execution_count": 11,
      "metadata": {
        "colab": {
          "base_uri": "https://localhost:8080/",
          "height": 345
        },
        "id": "v1Qqnz-B_8hS",
        "outputId": "cefc78cc-4118-4b91-c373-8029ab89840d"
      },
      "outputs": [
        {
          "data": {
            "application/vnd.google.colaboratory.intrinsic+json": {
              "summary": "{\n  \"name\": \"df\",\n  \"rows\": 32,\n  \"fields\": [\n    {\n      \"column\": \"campus\",\n      \"properties\": {\n        \"dtype\": \"category\",\n        \"num_unique_values\": 2,\n        \"samples\": [\n          \"QUICK CASH\",\n          \"CLIENT ACQUISITION\"\n        ],\n        \"semantic_type\": \"\",\n        \"description\": \"\"\n      }\n    },\n    {\n      \"column\": \"campus_description\",\n      \"properties\": {\n        \"dtype\": \"category\",\n        \"num_unique_values\": 2,\n        \"samples\": [\n          \"Learn everything about how to earn quick cash. Courses avaliable in this campus are Understanding Art Techniques, Understanding Art Techniques, Understanding Art Techniques, Digital Art Fundamentals, Digital Art Fundamentals, Digital Art Fundamentals, Art History: From Ancient to Modern, Art History: From Ancient to Modern\",\n          \"Design courses that focus on leveraging social media platforms to attract, engage, and retain clients. Courses avaliable in this campus are Building a Brand on Social Media, Building a Brand on Social Media, Building a Brand on Social Media, Social Media Advertising and Paid Campaigns, Social Media Advertising and Paid Campaigns, Social Media Advertising and Paid Campaigns, Analytics and Metrics for Social Media, Analytics and Metrics for Social Media, Analytics and Metrics for Social Media, Content Creation for Social Media, Content Creation for Social Media, Content Creation for Social Media, Influencer Marketing Strategies, Influencer Marketing Strategies, Influencer Marketing Strategies, Engagement Strategies on Social Media, Engagement Strategies on Social Media, Engagement Strategies on Social Media, Social Media Crisis Management, Social Media Crisis Management, Social Media Crisis Management, Creating Viral Content, Creating Viral Content, Creating Viral Content\"\n        ],\n        \"semantic_type\": \"\",\n        \"description\": \"\"\n      }\n    },\n    {\n      \"column\": \"course\",\n      \"properties\": {\n        \"dtype\": \"category\",\n        \"num_unique_values\": 11,\n        \"samples\": [\n          \"Engagement Strategies on Social Media\",\n          \"Building a Brand on Social Media\"\n        ],\n        \"semantic_type\": \"\",\n        \"description\": \"\"\n      }\n    },\n    {\n      \"column\": \"course_description\",\n      \"properties\": {\n        \"dtype\": \"category\",\n        \"num_unique_values\": 11,\n        \"samples\": [\n          \"Techniques to boost engagement and interaction with your audience.. Modules avaliable in this course are LinkedIn for Client Acquisition, Utilizing Facebook Ads, Twitter as a Marketing Tool\",\n          \"Strategies to create and maintain a strong brand presence on social media platforms.. Modules avaliable in this course are Effective Copywriting for Social Media, Developing a Content Calendar, Social Media Engagement Strategies\"\n        ],\n        \"semantic_type\": \"\",\n        \"description\": \"\"\n      }\n    },\n    {\n      \"column\": \"module\",\n      \"properties\": {\n        \"dtype\": \"string\",\n        \"num_unique_values\": 32,\n        \"samples\": [\n          \"Watercolor Techniques\",\n          \"LinkedIn for Client Acquisition\"\n        ],\n        \"semantic_type\": \"\",\n        \"description\": \"\"\n      }\n    },\n    {\n      \"column\": \"module_description\",\n      \"properties\": {\n        \"dtype\": \"string\",\n        \"num_unique_values\": 32,\n        \"samples\": [\n          \"Experiment with different watercolor techniques to create expressive artwork.\",\n          \"Build professional relationships and generate leads through LinkedIn marketing.\"\n        ],\n        \"semantic_type\": \"\",\n        \"description\": \"\"\n      }\n    }\n  ]\n}",
              "type": "dataframe",
              "variable_name": "df"
            },
            "text/html": [
              "\n",
              "  <div id=\"df-5c839afd-12c5-47fd-8846-908e7909d57b\" class=\"colab-df-container\">\n",
              "    <div>\n",
              "<style scoped>\n",
              "    .dataframe tbody tr th:only-of-type {\n",
              "        vertical-align: middle;\n",
              "    }\n",
              "\n",
              "    .dataframe tbody tr th {\n",
              "        vertical-align: top;\n",
              "    }\n",
              "\n",
              "    .dataframe thead th {\n",
              "        text-align: right;\n",
              "    }\n",
              "</style>\n",
              "<table border=\"1\" class=\"dataframe\">\n",
              "  <thead>\n",
              "    <tr style=\"text-align: right;\">\n",
              "      <th></th>\n",
              "      <th>campus</th>\n",
              "      <th>campus_description</th>\n",
              "      <th>course</th>\n",
              "      <th>course_description</th>\n",
              "      <th>module</th>\n",
              "      <th>module_description</th>\n",
              "    </tr>\n",
              "  </thead>\n",
              "  <tbody>\n",
              "    <tr>\n",
              "      <th>0</th>\n",
              "      <td>CLIENT ACQUISITION</td>\n",
              "      <td>Design courses that focus on leveraging social...</td>\n",
              "      <td>Building a Brand on Social Media</td>\n",
              "      <td>Strategies to create and maintain a strong bra...</td>\n",
              "      <td>Effective Copywriting for Social Media</td>\n",
              "      <td>Discover tips for writing compelling and conci...</td>\n",
              "    </tr>\n",
              "    <tr>\n",
              "      <th>1</th>\n",
              "      <td>CLIENT ACQUISITION</td>\n",
              "      <td>Design courses that focus on leveraging social...</td>\n",
              "      <td>Building a Brand on Social Media</td>\n",
              "      <td>Strategies to create and maintain a strong bra...</td>\n",
              "      <td>Developing a Content Calendar</td>\n",
              "      <td>Learn to create a content calendar that aligns...</td>\n",
              "    </tr>\n",
              "    <tr>\n",
              "      <th>2</th>\n",
              "      <td>CLIENT ACQUISITION</td>\n",
              "      <td>Design courses that focus on leveraging social...</td>\n",
              "      <td>Building a Brand on Social Media</td>\n",
              "      <td>Strategies to create and maintain a strong bra...</td>\n",
              "      <td>Social Media Engagement Strategies</td>\n",
              "      <td>Learn techniques to engage your audience, enco...</td>\n",
              "    </tr>\n",
              "    <tr>\n",
              "      <th>3</th>\n",
              "      <td>CLIENT ACQUISITION</td>\n",
              "      <td>Design courses that focus on leveraging social...</td>\n",
              "      <td>Social Media Advertising and Paid Campaigns</td>\n",
              "      <td>Setting up and managing social media ad campai...</td>\n",
              "      <td>Targeting Audiences</td>\n",
              "      <td>Understand how to target the right audience us...</td>\n",
              "    </tr>\n",
              "    <tr>\n",
              "      <th>4</th>\n",
              "      <td>CLIENT ACQUISITION</td>\n",
              "      <td>Design courses that focus on leveraging social...</td>\n",
              "      <td>Social Media Advertising and Paid Campaigns</td>\n",
              "      <td>Setting up and managing social media ad campai...</td>\n",
              "      <td>Creating Effective Ad Campaigns</td>\n",
              "      <td>Learn how to set up, budget, and optimize soci...</td>\n",
              "    </tr>\n",
              "  </tbody>\n",
              "</table>\n",
              "</div>\n",
              "    <div class=\"colab-df-buttons\">\n",
              "\n",
              "  <div class=\"colab-df-container\">\n",
              "    <button class=\"colab-df-convert\" onclick=\"convertToInteractive('df-5c839afd-12c5-47fd-8846-908e7909d57b')\"\n",
              "            title=\"Convert this dataframe to an interactive table.\"\n",
              "            style=\"display:none;\">\n",
              "\n",
              "  <svg xmlns=\"http://www.w3.org/2000/svg\" height=\"24px\" viewBox=\"0 -960 960 960\">\n",
              "    <path d=\"M120-120v-720h720v720H120Zm60-500h600v-160H180v160Zm220 220h160v-160H400v160Zm0 220h160v-160H400v160ZM180-400h160v-160H180v160Zm440 0h160v-160H620v160ZM180-180h160v-160H180v160Zm440 0h160v-160H620v160Z\"/>\n",
              "  </svg>\n",
              "    </button>\n",
              "\n",
              "  <style>\n",
              "    .colab-df-container {\n",
              "      display:flex;\n",
              "      gap: 12px;\n",
              "    }\n",
              "\n",
              "    .colab-df-convert {\n",
              "      background-color: #E8F0FE;\n",
              "      border: none;\n",
              "      border-radius: 50%;\n",
              "      cursor: pointer;\n",
              "      display: none;\n",
              "      fill: #1967D2;\n",
              "      height: 32px;\n",
              "      padding: 0 0 0 0;\n",
              "      width: 32px;\n",
              "    }\n",
              "\n",
              "    .colab-df-convert:hover {\n",
              "      background-color: #E2EBFA;\n",
              "      box-shadow: 0px 1px 2px rgba(60, 64, 67, 0.3), 0px 1px 3px 1px rgba(60, 64, 67, 0.15);\n",
              "      fill: #174EA6;\n",
              "    }\n",
              "\n",
              "    .colab-df-buttons div {\n",
              "      margin-bottom: 4px;\n",
              "    }\n",
              "\n",
              "    [theme=dark] .colab-df-convert {\n",
              "      background-color: #3B4455;\n",
              "      fill: #D2E3FC;\n",
              "    }\n",
              "\n",
              "    [theme=dark] .colab-df-convert:hover {\n",
              "      background-color: #434B5C;\n",
              "      box-shadow: 0px 1px 3px 1px rgba(0, 0, 0, 0.15);\n",
              "      filter: drop-shadow(0px 1px 2px rgba(0, 0, 0, 0.3));\n",
              "      fill: #FFFFFF;\n",
              "    }\n",
              "  </style>\n",
              "\n",
              "    <script>\n",
              "      const buttonEl =\n",
              "        document.querySelector('#df-5c839afd-12c5-47fd-8846-908e7909d57b button.colab-df-convert');\n",
              "      buttonEl.style.display =\n",
              "        google.colab.kernel.accessAllowed ? 'block' : 'none';\n",
              "\n",
              "      async function convertToInteractive(key) {\n",
              "        const element = document.querySelector('#df-5c839afd-12c5-47fd-8846-908e7909d57b');\n",
              "        const dataTable =\n",
              "          await google.colab.kernel.invokeFunction('convertToInteractive',\n",
              "                                                    [key], {});\n",
              "        if (!dataTable) return;\n",
              "\n",
              "        const docLinkHtml = 'Like what you see? Visit the ' +\n",
              "          '<a target=\"_blank\" href=https://colab.research.google.com/notebooks/data_table.ipynb>data table notebook</a>'\n",
              "          + ' to learn more about interactive tables.';\n",
              "        element.innerHTML = '';\n",
              "        dataTable['output_type'] = 'display_data';\n",
              "        await google.colab.output.renderOutput(dataTable, element);\n",
              "        const docLink = document.createElement('div');\n",
              "        docLink.innerHTML = docLinkHtml;\n",
              "        element.appendChild(docLink);\n",
              "      }\n",
              "    </script>\n",
              "  </div>\n",
              "\n",
              "\n",
              "<div id=\"df-89a89521-6921-4098-91d9-3bac1a5117fa\">\n",
              "  <button class=\"colab-df-quickchart\" onclick=\"quickchart('df-89a89521-6921-4098-91d9-3bac1a5117fa')\"\n",
              "            title=\"Suggest charts\"\n",
              "            style=\"display:none;\">\n",
              "\n",
              "<svg xmlns=\"http://www.w3.org/2000/svg\" height=\"24px\"viewBox=\"0 0 24 24\"\n",
              "     width=\"24px\">\n",
              "    <g>\n",
              "        <path d=\"M19 3H5c-1.1 0-2 .9-2 2v14c0 1.1.9 2 2 2h14c1.1 0 2-.9 2-2V5c0-1.1-.9-2-2-2zM9 17H7v-7h2v7zm4 0h-2V7h2v10zm4 0h-2v-4h2v4z\"/>\n",
              "    </g>\n",
              "</svg>\n",
              "  </button>\n",
              "\n",
              "<style>\n",
              "  .colab-df-quickchart {\n",
              "      --bg-color: #E8F0FE;\n",
              "      --fill-color: #1967D2;\n",
              "      --hover-bg-color: #E2EBFA;\n",
              "      --hover-fill-color: #174EA6;\n",
              "      --disabled-fill-color: #AAA;\n",
              "      --disabled-bg-color: #DDD;\n",
              "  }\n",
              "\n",
              "  [theme=dark] .colab-df-quickchart {\n",
              "      --bg-color: #3B4455;\n",
              "      --fill-color: #D2E3FC;\n",
              "      --hover-bg-color: #434B5C;\n",
              "      --hover-fill-color: #FFFFFF;\n",
              "      --disabled-bg-color: #3B4455;\n",
              "      --disabled-fill-color: #666;\n",
              "  }\n",
              "\n",
              "  .colab-df-quickchart {\n",
              "    background-color: var(--bg-color);\n",
              "    border: none;\n",
              "    border-radius: 50%;\n",
              "    cursor: pointer;\n",
              "    display: none;\n",
              "    fill: var(--fill-color);\n",
              "    height: 32px;\n",
              "    padding: 0;\n",
              "    width: 32px;\n",
              "  }\n",
              "\n",
              "  .colab-df-quickchart:hover {\n",
              "    background-color: var(--hover-bg-color);\n",
              "    box-shadow: 0 1px 2px rgba(60, 64, 67, 0.3), 0 1px 3px 1px rgba(60, 64, 67, 0.15);\n",
              "    fill: var(--button-hover-fill-color);\n",
              "  }\n",
              "\n",
              "  .colab-df-quickchart-complete:disabled,\n",
              "  .colab-df-quickchart-complete:disabled:hover {\n",
              "    background-color: var(--disabled-bg-color);\n",
              "    fill: var(--disabled-fill-color);\n",
              "    box-shadow: none;\n",
              "  }\n",
              "\n",
              "  .colab-df-spinner {\n",
              "    border: 2px solid var(--fill-color);\n",
              "    border-color: transparent;\n",
              "    border-bottom-color: var(--fill-color);\n",
              "    animation:\n",
              "      spin 1s steps(1) infinite;\n",
              "  }\n",
              "\n",
              "  @keyframes spin {\n",
              "    0% {\n",
              "      border-color: transparent;\n",
              "      border-bottom-color: var(--fill-color);\n",
              "      border-left-color: var(--fill-color);\n",
              "    }\n",
              "    20% {\n",
              "      border-color: transparent;\n",
              "      border-left-color: var(--fill-color);\n",
              "      border-top-color: var(--fill-color);\n",
              "    }\n",
              "    30% {\n",
              "      border-color: transparent;\n",
              "      border-left-color: var(--fill-color);\n",
              "      border-top-color: var(--fill-color);\n",
              "      border-right-color: var(--fill-color);\n",
              "    }\n",
              "    40% {\n",
              "      border-color: transparent;\n",
              "      border-right-color: var(--fill-color);\n",
              "      border-top-color: var(--fill-color);\n",
              "    }\n",
              "    60% {\n",
              "      border-color: transparent;\n",
              "      border-right-color: var(--fill-color);\n",
              "    }\n",
              "    80% {\n",
              "      border-color: transparent;\n",
              "      border-right-color: var(--fill-color);\n",
              "      border-bottom-color: var(--fill-color);\n",
              "    }\n",
              "    90% {\n",
              "      border-color: transparent;\n",
              "      border-bottom-color: var(--fill-color);\n",
              "    }\n",
              "  }\n",
              "</style>\n",
              "\n",
              "  <script>\n",
              "    async function quickchart(key) {\n",
              "      const quickchartButtonEl =\n",
              "        document.querySelector('#' + key + ' button');\n",
              "      quickchartButtonEl.disabled = true;  // To prevent multiple clicks.\n",
              "      quickchartButtonEl.classList.add('colab-df-spinner');\n",
              "      try {\n",
              "        const charts = await google.colab.kernel.invokeFunction(\n",
              "            'suggestCharts', [key], {});\n",
              "      } catch (error) {\n",
              "        console.error('Error during call to suggestCharts:', error);\n",
              "      }\n",
              "      quickchartButtonEl.classList.remove('colab-df-spinner');\n",
              "      quickchartButtonEl.classList.add('colab-df-quickchart-complete');\n",
              "    }\n",
              "    (() => {\n",
              "      let quickchartButtonEl =\n",
              "        document.querySelector('#df-89a89521-6921-4098-91d9-3bac1a5117fa button');\n",
              "      quickchartButtonEl.style.display =\n",
              "        google.colab.kernel.accessAllowed ? 'block' : 'none';\n",
              "    })();\n",
              "  </script>\n",
              "</div>\n",
              "\n",
              "    </div>\n",
              "  </div>\n"
            ],
            "text/plain": [
              "               campus                                 campus_description  \\\n",
              "0  CLIENT ACQUISITION  Design courses that focus on leveraging social...   \n",
              "1  CLIENT ACQUISITION  Design courses that focus on leveraging social...   \n",
              "2  CLIENT ACQUISITION  Design courses that focus on leveraging social...   \n",
              "3  CLIENT ACQUISITION  Design courses that focus on leveraging social...   \n",
              "4  CLIENT ACQUISITION  Design courses that focus on leveraging social...   \n",
              "\n",
              "                                        course  \\\n",
              "0             Building a Brand on Social Media   \n",
              "1             Building a Brand on Social Media   \n",
              "2             Building a Brand on Social Media   \n",
              "3  Social Media Advertising and Paid Campaigns   \n",
              "4  Social Media Advertising and Paid Campaigns   \n",
              "\n",
              "                                  course_description  \\\n",
              "0  Strategies to create and maintain a strong bra...   \n",
              "1  Strategies to create and maintain a strong bra...   \n",
              "2  Strategies to create and maintain a strong bra...   \n",
              "3  Setting up and managing social media ad campai...   \n",
              "4  Setting up and managing social media ad campai...   \n",
              "\n",
              "                                   module  \\\n",
              "0  Effective Copywriting for Social Media   \n",
              "1           Developing a Content Calendar   \n",
              "2      Social Media Engagement Strategies   \n",
              "3                     Targeting Audiences   \n",
              "4         Creating Effective Ad Campaigns   \n",
              "\n",
              "                                  module_description  \n",
              "0  Discover tips for writing compelling and conci...  \n",
              "1  Learn to create a content calendar that aligns...  \n",
              "2  Learn techniques to engage your audience, enco...  \n",
              "3  Understand how to target the right audience us...  \n",
              "4  Learn how to set up, budget, and optimize soci...  "
            ]
          },
          "execution_count": 11,
          "metadata": {},
          "output_type": "execute_result"
        }
      ],
      "source": [
        "df.head()"
      ]
    },
    {
      "cell_type": "code",
      "execution_count": 12,
      "metadata": {
        "colab": {
          "base_uri": "https://localhost:8080/"
        },
        "id": "e616G-Opof42",
        "outputId": "215c77ab-5c7c-4e88-f16d-59374247bf2a"
      },
      "outputs": [
        {
          "data": {
            "text/plain": [
              "(Index(['campus', 'campus_description', 'course', 'course_description',\n",
              "        'module', 'module_description'],\n",
              "       dtype='object'),\n",
              " (32, 6))"
            ]
          },
          "execution_count": 12,
          "metadata": {},
          "output_type": "execute_result"
        }
      ],
      "source": [
        "df.columns, df.shape"
      ]
    },
    {
      "cell_type": "code",
      "execution_count": 13,
      "metadata": {
        "colab": {
          "base_uri": "https://localhost:8080/",
          "height": 272
        },
        "id": "iFDpS90g5Vx6",
        "outputId": "85125a7d-ba8d-4205-af2a-a1e3803feefa"
      },
      "outputs": [
        {
          "data": {
            "text/html": [
              "<div>\n",
              "<style scoped>\n",
              "    .dataframe tbody tr th:only-of-type {\n",
              "        vertical-align: middle;\n",
              "    }\n",
              "\n",
              "    .dataframe tbody tr th {\n",
              "        vertical-align: top;\n",
              "    }\n",
              "\n",
              "    .dataframe thead th {\n",
              "        text-align: right;\n",
              "    }\n",
              "</style>\n",
              "<table border=\"1\" class=\"dataframe\">\n",
              "  <thead>\n",
              "    <tr style=\"text-align: right;\">\n",
              "      <th></th>\n",
              "      <th>0</th>\n",
              "    </tr>\n",
              "  </thead>\n",
              "  <tbody>\n",
              "    <tr>\n",
              "      <th>campus</th>\n",
              "      <td>0</td>\n",
              "    </tr>\n",
              "    <tr>\n",
              "      <th>campus_description</th>\n",
              "      <td>0</td>\n",
              "    </tr>\n",
              "    <tr>\n",
              "      <th>course</th>\n",
              "      <td>0</td>\n",
              "    </tr>\n",
              "    <tr>\n",
              "      <th>course_description</th>\n",
              "      <td>0</td>\n",
              "    </tr>\n",
              "    <tr>\n",
              "      <th>module</th>\n",
              "      <td>0</td>\n",
              "    </tr>\n",
              "    <tr>\n",
              "      <th>module_description</th>\n",
              "      <td>0</td>\n",
              "    </tr>\n",
              "  </tbody>\n",
              "</table>\n",
              "</div><br><label><b>dtype:</b> int64</label>"
            ],
            "text/plain": [
              "campus                0\n",
              "campus_description    0\n",
              "course                0\n",
              "course_description    0\n",
              "module                0\n",
              "module_description    0\n",
              "dtype: int64"
            ]
          },
          "execution_count": 13,
          "metadata": {},
          "output_type": "execute_result"
        }
      ],
      "source": [
        "df.isna().sum()"
      ]
    },
    {
      "cell_type": "markdown",
      "metadata": {
        "id": "HZ2zUYQKu0DZ"
      },
      "source": [
        "## Initializing OpenAI Embedding Model\n"
      ]
    },
    {
      "cell_type": "code",
      "execution_count": 14,
      "metadata": {
        "colab": {
          "base_uri": "https://localhost:8080/"
        },
        "id": "J62tya9cpQig",
        "outputId": "6f6c1f3a-a653-4a55-bed5-6774277c0e8d"
      },
      "outputs": [
        {
          "name": "stdout",
          "output_type": "stream",
          "text": [
            "Enter your OpenAI API key: ··········\n"
          ]
        },
        {
          "name": "stderr",
          "output_type": "stream",
          "text": [
            "/usr/local/lib/python3.10/dist-packages/langchain_core/_api/deprecation.py:117: LangChainDeprecationWarning: The class `langchain_community.embeddings.openai.OpenAIEmbeddings` was deprecated in langchain-community 0.1.0 and will be removed in 0.2.0. An updated version of the class exists in the langchain-openai package and should be used instead. To use it run `pip install -U langchain-openai` and import as `from langchain_openai import OpenAIEmbeddings`.\n",
            "  warn_deprecated(\n"
          ]
        }
      ],
      "source": [
        "import os\n",
        "from getpass import getpass\n",
        "from langchain.embeddings.openai import OpenAIEmbeddings\n",
        "\n",
        "# Enter OpenAI API key\n",
        "OPENAI_API_KEY = os.getenv(\"OPENAI_API_KEY\") or getpass(\"Enter your OpenAI API key: \")\n",
        "model_name = 'text-embedding-ada-002'\n",
        "\n",
        "embed = OpenAIEmbeddings(\n",
        "    model=model_name,\n",
        "    openai_api_key=OPENAI_API_KEY\n",
        ")"
      ]
    },
    {
      "cell_type": "markdown",
      "metadata": {
        "id": "4hxvkzrnu8fD"
      },
      "source": [
        "## Initializing connection with Pinecone Vector Database\n"
      ]
    },
    {
      "cell_type": "code",
      "execution_count": 15,
      "metadata": {
        "colab": {
          "base_uri": "https://localhost:8080/"
        },
        "id": "lmWSERDopXsf",
        "outputId": "6f06bd6f-c56c-496f-eb48-9123d16f8ee2"
      },
      "outputs": [
        {
          "name": "stdout",
          "output_type": "stream",
          "text": [
            "Enter your Pinecone API key: ··········\n"
          ]
        }
      ],
      "source": [
        "from pinecone import Pinecone\n",
        "\n",
        "# Initialising connection with pinecone vector database (Get API key from pinecone)\n",
        "api_key = os.getenv(\"PINECONE_API_KEY\") or getpass(\"Enter your Pinecone API key: \")\n",
        "pc = Pinecone(api_key=api_key)"
      ]
    },
    {
      "cell_type": "code",
      "execution_count": 16,
      "metadata": {
        "id": "OVLa381wpp0c"
      },
      "outputs": [],
      "source": [
        "from pinecone import ServerlessSpec\n",
        "spec = ServerlessSpec(\n",
        "    cloud=\"aws\", region=\"us-east-1\"\n",
        ")"
      ]
    },
    {
      "cell_type": "code",
      "execution_count": 17,
      "metadata": {
        "colab": {
          "base_uri": "https://localhost:8080/"
        },
        "id": "cdWP4FVzpvaV",
        "outputId": "3d5add23-cae2-4827-facc-e7920e5c5ca8"
      },
      "outputs": [
        {
          "data": {
            "text/plain": [
              "{'dimension': 1536,\n",
              " 'index_fullness': 0.0,\n",
              " 'namespaces': {},\n",
              " 'total_vector_count': 0}"
            ]
          },
          "execution_count": 17,
          "metadata": {},
          "output_type": "execute_result"
        }
      ],
      "source": [
        "import time\n",
        "index_name = \"chatbot-knowledge-base\"\n",
        "existing_indexes = [\n",
        "    index_info[\"name\"] for index_info in pc.list_indexes()\n",
        "]\n",
        "\n",
        "if index_name not in existing_indexes:\n",
        "    pc.create_index(\n",
        "        index_name,\n",
        "        dimension=1536,\n",
        "        metric='dotproduct',\n",
        "        spec=spec\n",
        "    )\n",
        "    while not pc.describe_index(index_name).status['ready']:\n",
        "        time.sleep(1)\n",
        "\n",
        "# connect to index\n",
        "index = pc.Index(index_name)\n",
        "time.sleep(1)\n",
        "index.describe_index_stats() # Stats"
      ]
    },
    {
      "cell_type": "code",
      "execution_count": 18,
      "metadata": {
        "colab": {
          "base_uri": "https://localhost:8080/",
          "height": 49,
          "referenced_widgets": [
            "18a616c867234a969089f3712d69a032",
            "d494b37b5e7f4fda95acb6cf8d48b95d",
            "c7ed184bb04e4827950369f5965c964a",
            "456c01e74ea844b2bf727fe291915cc8",
            "f13d51ce67634b7c9f72480d0025c338",
            "fc460d6d214748978a1fc2fc5141c386",
            "99b7971e465f4a3eb80a7be862e742e1",
            "01cc763bf7a444bd85bb3c691a897fdc",
            "0ee67dc743e044daa3da19a951c0f11f",
            "5dd29ab0672a40b5adbdad86a1f40aa5",
            "ac58dda1db7b4212b3e92091cae0f644"
          ]
        },
        "id": "BKOE_rsrqBTb",
        "outputId": "2bfffc8d-c3df-4f3e-9173-01fa7c9bf170"
      },
      "outputs": [
        {
          "data": {
            "application/vnd.jupyter.widget-view+json": {
              "model_id": "18a616c867234a969089f3712d69a032",
              "version_major": 2,
              "version_minor": 0
            },
            "text/plain": [
              "  0%|          | 0/1 [00:00<?, ?it/s]"
            ]
          },
          "metadata": {},
          "output_type": "display_data"
        }
      ],
      "source": [
        "from tqdm.auto import tqdm\n",
        "\n",
        "batch_size = 100\n",
        "texts = []\n",
        "metadatas = []\n",
        "ids = [f'course_id_{i}' for i in range(len(df))]\n",
        "\n",
        "for i in tqdm(range(0, len(df), batch_size)):\n",
        "    i_end = min(len(df), i + batch_size)  # Get end of batch\n",
        "    batch = df.iloc[i:i_end]  # Extract the batch of data\n",
        "\n",
        "    # Metadata construction for Pinecone\n",
        "    metadatas = [{\n",
        "        'campus_name': record['campus'],\n",
        "        'campus_description': record['campus_description'],\n",
        "        'course_name': record['course'],\n",
        "        'course_description': record['course_description'],\n",
        "        'module_name': record['module'],\n",
        "        'module_description': record['module_description'],\n",
        "        'text': (record['campus'] + ' ' +\n",
        "                 record['campus_description'] + ' ' +\n",
        "                 record['course'] + ' ' +\n",
        "                 record['course_description'] + ' ' +\n",
        "                 record['module'] + ' ' +\n",
        "                 record['module_description']\n",
        "                )\n",
        "    } for _, record in batch.iterrows()]\n",
        "\n",
        "    # Combine multiple fields for embedding\n",
        "    documents = (batch['campus'] + ' ' +\n",
        "                 batch['campus_description'] + ' ' +\n",
        "                 batch['course'] + ' ' +\n",
        "                 batch['course_description'] + ' ' +\n",
        "                 batch['module'] + ' ' +\n",
        "                 batch['module_description']\n",
        "                 ).tolist()\n",
        "\n",
        "    embeds = embed.embed_documents(documents)\n",
        "    index.upsert(vectors=zip(ids[i:i_end], embeds, metadatas))"
      ]
    },
    {
      "cell_type": "code",
      "execution_count": 19,
      "metadata": {
        "colab": {
          "base_uri": "https://localhost:8080/"
        },
        "id": "2Jb2yisSq8IB",
        "outputId": "9f3aeee3-7a09-4022-f352-21bc05f01ad5"
      },
      "outputs": [
        {
          "data": {
            "text/plain": [
              "{'dimension': 1536,\n",
              " 'index_fullness': 0.0,\n",
              " 'namespaces': {},\n",
              " 'total_vector_count': 0}"
            ]
          },
          "execution_count": 19,
          "metadata": {},
          "output_type": "execute_result"
        }
      ],
      "source": [
        "index.describe_index_stats()"
      ]
    },
    {
      "cell_type": "code",
      "execution_count": 20,
      "metadata": {
        "colab": {
          "base_uri": "https://localhost:8080/"
        },
        "id": "mfzJhydUscei",
        "outputId": "c04d5db2-4901-47c2-e9af-6f26a420df56"
      },
      "outputs": [
        {
          "name": "stderr",
          "output_type": "stream",
          "text": [
            "/usr/local/lib/python3.10/dist-packages/langchain_community/vectorstores/pinecone.py:75: UserWarning: Passing in `embedding` as a Callable is deprecated. Please pass in an Embeddings object instead.\n",
            "  warnings.warn(\n"
          ]
        }
      ],
      "source": [
        "from langchain.vectorstores import Pinecone\n",
        "text_field = \"text\"  # the metadata field that contains our text\n",
        "\n",
        "# initialize the vector store object\n",
        "vectorstore = Pinecone(\n",
        "    index, embed.embed_query, text_field\n",
        ")"
      ]
    },
    {
      "cell_type": "code",
      "execution_count": 21,
      "metadata": {
        "colab": {
          "base_uri": "https://localhost:8080/"
        },
        "id": "ezQV-D6QsjF9",
        "outputId": "0fd99cf9-9cdd-4c12-af3c-bb8ee6b83f8c"
      },
      "outputs": [
        {
          "data": {
            "text/plain": [
              "[Document(page_content='CLIENT ACQUISITION Design courses that focus on leveraging social media platforms to attract, engage, and retain clients. Courses avaliable in this campus are Building a Brand on Social Media, Building a Brand on Social Media, Building a Brand on Social Media, Social Media Advertising and Paid Campaigns, Social Media Advertising and Paid Campaigns, Social Media Advertising and Paid Campaigns, Analytics and Metrics for Social Media, Analytics and Metrics for Social Media, Analytics and Metrics for Social Media, Content Creation for Social Media, Content Creation for Social Media, Content Creation for Social Media, Influencer Marketing Strategies, Influencer Marketing Strategies, Influencer Marketing Strategies, Engagement Strategies on Social Media, Engagement Strategies on Social Media, Engagement Strategies on Social Media, Social Media Crisis Management, Social Media Crisis Management, Social Media Crisis Management, Creating Viral Content, Creating Viral Content, Creating Viral Content Creating Viral Content Techniques to create content that has the potential to go viral on social media.. Modules avaliable in this course are Social Media for Local Businesses, Utilizing Social Media for Customer Service, Paid vs Organic Social Media Strategies Social Media for Local Businesses Learn how local businesses can use social media to increase brand visibility and attract customers.', metadata={'campus_description': 'Design courses that focus on leveraging social media platforms to attract, engage, and retain clients. Courses avaliable in this campus are Building a Brand on Social Media, Building a Brand on Social Media, Building a Brand on Social Media, Social Media Advertising and Paid Campaigns, Social Media Advertising and Paid Campaigns, Social Media Advertising and Paid Campaigns, Analytics and Metrics for Social Media, Analytics and Metrics for Social Media, Analytics and Metrics for Social Media, Content Creation for Social Media, Content Creation for Social Media, Content Creation for Social Media, Influencer Marketing Strategies, Influencer Marketing Strategies, Influencer Marketing Strategies, Engagement Strategies on Social Media, Engagement Strategies on Social Media, Engagement Strategies on Social Media, Social Media Crisis Management, Social Media Crisis Management, Social Media Crisis Management, Creating Viral Content, Creating Viral Content, Creating Viral Content', 'campus_name': 'CLIENT ACQUISITION', 'course_description': 'Techniques to create content that has the potential to go viral on social media.. Modules avaliable in this course are Social Media for Local Businesses, Utilizing Social Media for Customer Service, Paid vs Organic Social Media Strategies', 'course_name': 'Creating Viral Content', 'module_description': 'Learn how local businesses can use social media to increase brand visibility and attract customers.', 'module_name': 'Social Media for Local Businesses'}),\n",
              " Document(page_content='CLIENT ACQUISITION Design courses that focus on leveraging social media platforms to attract, engage, and retain clients. Courses avaliable in this campus are Building a Brand on Social Media, Building a Brand on Social Media, Building a Brand on Social Media, Social Media Advertising and Paid Campaigns, Social Media Advertising and Paid Campaigns, Social Media Advertising and Paid Campaigns, Analytics and Metrics for Social Media, Analytics and Metrics for Social Media, Analytics and Metrics for Social Media, Content Creation for Social Media, Content Creation for Social Media, Content Creation for Social Media, Influencer Marketing Strategies, Influencer Marketing Strategies, Influencer Marketing Strategies, Engagement Strategies on Social Media, Engagement Strategies on Social Media, Engagement Strategies on Social Media, Social Media Crisis Management, Social Media Crisis Management, Social Media Crisis Management, Creating Viral Content, Creating Viral Content, Creating Viral Content Social Media Crisis Management How to handle crises and negative feedback on social media platforms.. Modules avaliable in this course are Managing Multiple Social Media Accounts, Effective Social Media Crisis Management, Running Competitions and Giveaways Managing Multiple Social Media Accounts Learn how to manage multiple accounts and maintain brand consistency across platforms.', metadata={'campus_description': 'Design courses that focus on leveraging social media platforms to attract, engage, and retain clients. Courses avaliable in this campus are Building a Brand on Social Media, Building a Brand on Social Media, Building a Brand on Social Media, Social Media Advertising and Paid Campaigns, Social Media Advertising and Paid Campaigns, Social Media Advertising and Paid Campaigns, Analytics and Metrics for Social Media, Analytics and Metrics for Social Media, Analytics and Metrics for Social Media, Content Creation for Social Media, Content Creation for Social Media, Content Creation for Social Media, Influencer Marketing Strategies, Influencer Marketing Strategies, Influencer Marketing Strategies, Engagement Strategies on Social Media, Engagement Strategies on Social Media, Engagement Strategies on Social Media, Social Media Crisis Management, Social Media Crisis Management, Social Media Crisis Management, Creating Viral Content, Creating Viral Content, Creating Viral Content', 'campus_name': 'CLIENT ACQUISITION', 'course_description': 'How to handle crises and negative feedback on social media platforms.. Modules avaliable in this course are Managing Multiple Social Media Accounts, Effective Social Media Crisis Management, Running Competitions and Giveaways', 'course_name': 'Social Media Crisis Management', 'module_description': 'Learn how to manage multiple accounts and maintain brand consistency across platforms.', 'module_name': 'Managing Multiple Social Media Accounts'}),\n",
              " Document(page_content='CLIENT ACQUISITION Design courses that focus on leveraging social media platforms to attract, engage, and retain clients. Courses avaliable in this campus are Building a Brand on Social Media, Building a Brand on Social Media, Building a Brand on Social Media, Social Media Advertising and Paid Campaigns, Social Media Advertising and Paid Campaigns, Social Media Advertising and Paid Campaigns, Analytics and Metrics for Social Media, Analytics and Metrics for Social Media, Analytics and Metrics for Social Media, Content Creation for Social Media, Content Creation for Social Media, Content Creation for Social Media, Influencer Marketing Strategies, Influencer Marketing Strategies, Influencer Marketing Strategies, Engagement Strategies on Social Media, Engagement Strategies on Social Media, Engagement Strategies on Social Media, Social Media Crisis Management, Social Media Crisis Management, Social Media Crisis Management, Creating Viral Content, Creating Viral Content, Creating Viral Content Social Media Crisis Management How to handle crises and negative feedback on social media platforms.. Modules avaliable in this course are Managing Multiple Social Media Accounts, Effective Social Media Crisis Management, Running Competitions and Giveaways Running Competitions and Giveaways Learn how to run successful social media contests to engage your audience and attract new followers.', metadata={'campus_description': 'Design courses that focus on leveraging social media platforms to attract, engage, and retain clients. Courses avaliable in this campus are Building a Brand on Social Media, Building a Brand on Social Media, Building a Brand on Social Media, Social Media Advertising and Paid Campaigns, Social Media Advertising and Paid Campaigns, Social Media Advertising and Paid Campaigns, Analytics and Metrics for Social Media, Analytics and Metrics for Social Media, Analytics and Metrics for Social Media, Content Creation for Social Media, Content Creation for Social Media, Content Creation for Social Media, Influencer Marketing Strategies, Influencer Marketing Strategies, Influencer Marketing Strategies, Engagement Strategies on Social Media, Engagement Strategies on Social Media, Engagement Strategies on Social Media, Social Media Crisis Management, Social Media Crisis Management, Social Media Crisis Management, Creating Viral Content, Creating Viral Content, Creating Viral Content', 'campus_name': 'CLIENT ACQUISITION', 'course_description': 'How to handle crises and negative feedback on social media platforms.. Modules avaliable in this course are Managing Multiple Social Media Accounts, Effective Social Media Crisis Management, Running Competitions and Giveaways', 'course_name': 'Social Media Crisis Management', 'module_description': 'Learn how to run successful social media contests to engage your audience and attract new followers.', 'module_name': 'Running Competitions and Giveaways'})]"
            ]
          },
          "execution_count": 21,
          "metadata": {},
          "output_type": "execute_result"
        }
      ],
      "source": [
        "query = \"Tell me courses related to social media\"\n",
        "vectorstore.similarity_search(\n",
        "    query,\n",
        "    k=3  # return 3 most relevant docs\n",
        ")"
      ]
    },
    {
      "cell_type": "code",
      "execution_count": 38,
      "metadata": {
        "id": "w2q55KrGO4T9"
      },
      "outputs": [],
      "source": [
        "from langchain.chat_models import ChatOpenAI\n",
        "from langchain.chains.conversation.memory import ConversationBufferWindowMemory\n",
        "from langchain.chains import RetrievalQA\n",
        "\n",
        "# chat completion llm\n",
        "llm = ChatOpenAI(\n",
        "    openai_api_key=OPENAI_API_KEY,\n",
        "    model_name='gpt-3.5-turbo',\n",
        "    temperature=0.0,\n",
        "    streaming=True\n",
        ")\n",
        "# conversational memory\n",
        "conversational_memory = ConversationBufferWindowMemory(\n",
        "    memory_key='chat_history',\n",
        "    k=5,\n",
        "    return_messages=True\n",
        ")\n",
        "# retrieval qa chain\n",
        "qa = RetrievalQA.from_chain_type(\n",
        "    llm=llm,\n",
        "    chain_type=\"stuff\",\n",
        "    retriever=vectorstore.as_retriever()\n",
        ")"
      ]
    },
    {
      "cell_type": "code",
      "execution_count": 39,
      "metadata": {
        "colab": {
          "base_uri": "https://localhost:8080/",
          "height": 122
        },
        "id": "T8EOniF5O8CJ",
        "outputId": "98c2f671-b1f9-4b2e-9454-a81e6553841d"
      },
      "outputs": [
        {
          "data": {
            "application/vnd.google.colaboratory.intrinsic+json": {
              "type": "string"
            },
            "text/plain": [
              "'Sure, here are some courses related to social media available in this campus:\\n\\n1. Building a Brand on Social Media\\n2. Social Media Advertising and Paid Campaigns\\n3. Analytics and Metrics for Social Media\\n4. Content Creation for Social Media\\n5. Influencer Marketing Strategies\\n6. Engagement Strategies on Social Media\\n7. Social Media Crisis Management\\n8. Creating Viral Content\\n9. Managing Multiple Social Media Accounts\\n10. Effective Social Media Crisis Management\\n11. Running Competitions and Giveaways\\n12. Social Media for Local Businesses\\n13. Utilizing Social Media for Customer Service\\n14. Paid vs Organic Social Media Strategies\\n\\nThese courses cover a range of topics from building a brand to crisis management and content creation on social media platforms.'"
            ]
          },
          "execution_count": 39,
          "metadata": {},
          "output_type": "execute_result"
        }
      ],
      "source": [
        "qa.run('Can you tell me courses related to social media ?')"
      ]
    },
    {
      "cell_type": "code",
      "execution_count": 40,
      "metadata": {
        "id": "xWbylCINrh0G"
      },
      "outputs": [],
      "source": [
        "from langchain.agents import Tool\n",
        "\n",
        "tools = [\n",
        "    Tool(\n",
        "        name='Knowledge Base',\n",
        "        func=qa.run,\n",
        "        description=(\n",
        "            'use this tool when answering general knowledge queries to get '\n",
        "            'more information about the campuses, courses, modules etc'\n",
        "            'provide accurate information about the courses in points'\n",
        "            'only give related answers, do not go out of context'\n",
        "            'do not make up answers'\n",
        "        )\n",
        "    ),\n",
        "    # Tool(\n",
        "    #     name='Links',\n",
        "    #     func=link.run,\n",
        "    #     description=(\n",
        "    #         'use this tool when user wants to navigate through '\n",
        "    #         'more information about the website'\n",
        "    #     )\n",
        "    # )\n",
        "]"
      ]
    },
    {
      "cell_type": "code",
      "execution_count": 41,
      "metadata": {
        "id": "3Z5CSGo9r3Pt"
      },
      "outputs": [],
      "source": [
        "from langchain.agents import initialize_agent\n",
        "\n",
        "agent = initialize_agent(\n",
        "    agent='chat-conversational-react-description',\n",
        "    tools=tools,\n",
        "    llm=llm,\n",
        "    verbose=True,\n",
        "    max_iterations=5,\n",
        "    early_stopping_method='generate',\n",
        "    memory=conversational_memory\n",
        ")"
      ]
    },
    {
      "cell_type": "code",
      "execution_count": 42,
      "metadata": {
        "colab": {
          "base_uri": "https://localhost:8080/",
          "height": 645
        },
        "id": "Aiyx_Zqbr5EU",
        "outputId": "7b6a6a3a-989f-402d-d55c-39b308c160b1"
      },
      "outputs": [
        {
          "name": "stdout",
          "output_type": "stream",
          "text": [
            "\n",
            "\n",
            "\u001b[1m> Entering new AgentExecutor chain...\u001b[0m\n",
            "\u001b[32;1m\u001b[1;3m```json\n",
            "{\n",
            "    \"action\": \"Knowledge Base\",\n",
            "    \"action_input\": \"courses related to Social Media\"\n",
            "}\n",
            "```\u001b[0m\n",
            "Observation: \u001b[36;1m\u001b[1;3mThe courses related to Social Media available in this campus are:\n",
            "\n",
            "1. Building a Brand on Social Media\n",
            "2. Social Media Advertising and Paid Campaigns\n",
            "3. Analytics and Metrics for Social Media\n",
            "4. Content Creation for Social Media\n",
            "5. Influencer Marketing Strategies\n",
            "6. Engagement Strategies on Social Media\n",
            "7. Social Media Crisis Management\n",
            "8. Creating Viral Content\n",
            "\n",
            "Additionally, there are modules available within some of these courses such as Managing Multiple Social Media Accounts, Effective Social Media Crisis Management, Running Competitions and Giveaways, Social Media for Local Businesses, Utilizing Social Media for Customer Service, Paid vs Organic Social Media Strategies, Ethics in Social Media Marketing, Content Repurposing Across Platforms, and Social Media ROI Tracking.\u001b[0m\n",
            "Thought:\u001b[32;1m\u001b[1;3m```json\n",
            "{\n",
            "    \"action\": \"Final Answer\",\n",
            "    \"action_input\": \"The courses related to Social Media available in this campus are: 1. Building a Brand on Social Media 2. Social Media Advertising and Paid Campaigns 3. Analytics and Metrics for Social Media 4. Content Creation for Social Media 5. Influencer Marketing Strategies 6. Engagement Strategies on Social Media 7. Social Media Crisis Management 8. Creating Viral Content. Additionally, there are modules available within some of these courses such as Managing Multiple Social Media Accounts, Effective Social Media Crisis Management, Running Competitions and Giveaways, Social Media for Local Businesses, Utilizing Social Media for Customer Service, Paid vs Organic Social Media Strategies, Ethics in Social Media Marketing, Content Repurposing Across Platforms, and Social Media ROI Tracking.\"\n",
            "}\n",
            "```\u001b[0m\n",
            "\n",
            "\u001b[1m> Finished chain.\u001b[0m\n"
          ]
        },
        {
          "data": {
            "application/vnd.google.colaboratory.intrinsic+json": {
              "type": "string"
            },
            "text/plain": [
              "'The courses related to Social Media available in this campus are: 1. Building a Brand on Social Media 2. Social Media Advertising and Paid Campaigns 3. Analytics and Metrics for Social Media 4. Content Creation for Social Media 5. Influencer Marketing Strategies 6. Engagement Strategies on Social Media 7. Social Media Crisis Management 8. Creating Viral Content. Additionally, there are modules available within some of these courses such as Managing Multiple Social Media Accounts, Effective Social Media Crisis Management, Running Competitions and Giveaways, Social Media for Local Businesses, Utilizing Social Media for Customer Service, Paid vs Organic Social Media Strategies, Ethics in Social Media Marketing, Content Repurposing Across Platforms, and Social Media ROI Tracking.'"
            ]
          },
          "execution_count": 42,
          "metadata": {},
          "output_type": "execute_result"
        }
      ],
      "source": [
        "response = agent('Can you tell courses related to Social Media in points?')\n",
        "response['output']"
      ]
    },
    {
      "cell_type": "code",
      "execution_count": 45,
      "metadata": {
        "colab": {
          "base_uri": "https://localhost:8080/"
        },
        "id": "qiNrMWdg3REM",
        "outputId": "9a7d94dd-5824-4824-fcdd-d75b84548e9b"
      },
      "outputs": [
        {
          "name": "stdout",
          "output_type": "stream",
          "text": [
            "\n",
            "\n",
            "\u001b[1m> Entering new AgentExecutor chain...\u001b[0m\n",
            "\u001b[32;1m\u001b[1;3m```json\n",
            "{\n",
            "    \"action\": \"Knowledge Base\",\n",
            "    \"action_input\": \"courses related to Social Media\"\n",
            "}\n",
            "```\u001b[0m\n",
            "Observation: \u001b[36;1m\u001b[1;3mThe courses related to Social Media available in this campus are:\n",
            "\n",
            "1. Building a Brand on Social Media\n",
            "2. Social Media Advertising and Paid Campaigns\n",
            "3. Analytics and Metrics for Social Media\n",
            "4. Content Creation for Social Media\n",
            "5. Influencer Marketing Strategies\n",
            "6. Engagement Strategies on Social Media\n",
            "7. Social Media Crisis Management\n",
            "8. Creating Viral Content\n",
            "\n",
            "Additionally, there are modules available within some of these courses such as Managing Multiple Social Media Accounts, Effective Social Media Crisis Management, Running Competitions and Giveaways, Social Media for Local Businesses, Utilizing Social Media for Customer Service, Paid vs Organic Social Media Strategies, Ethics in Social Media Marketing, Content Repurposing Across Platforms, and Social Media ROI Tracking.\u001b[0m\n",
            "Thought:\u001b[32;1m\u001b[1;3m```json\n",
            "{\n",
            "    \"action\": \"Final Answer\",\n",
            "    \"action_input\": \"The courses related to Social Media available in this campus are: 1. Building a Brand on Social Media 2. Social Media Advertising and Paid Campaigns 3. Analytics and Metrics for Social Media 4. Content Creation for Social Media 5. Influencer Marketing Strategies 6. Engagement Strategies on Social Media 7. Social Media Crisis Management 8. Creating Viral Content. Additionally, there are modules available within some of these courses such as Managing Multiple Social Media Accounts, Effective Social Media Crisis Management, Running Competitions and Giveaways, Social Media for Local Businesses, Utilizing Social Media for Customer Service, Paid vs Organic Social Media Strategies, Ethics in Social Media Marketing, Content Repurposing Across Platforms, and Social Media ROI Tracking.\"\n",
            "}\n",
            "```\u001b[0m\n",
            "\n",
            "\u001b[1m> Finished chain.\u001b[0m\n",
            "The courses related to Social Media available in this campus are: 1. Building a Brand on Social Media 2. Social Media Advertising and Paid Campaigns 3. Analytics and Metrics for Social Media 4. Content Creation for Social Media 5. Influencer Marketing Strategies 6. Engagement Strategies on Social Media 7. Social Media Crisis Management 8. Creating Viral Content. Additionally, there are modules available within some of these courses such as Managing Multiple Social Media Accounts, Effective Social Media Crisis Management, Running Competitions and Giveaways, Social Media for Local Businesses, Utilizing Social Media for Customer Service, Paid vs Organic Social Media Strategies, Ethics in Social Media Marketing, Content Repurposing Across Platforms, and Social Media ROI Tracking."
          ]
        }
      ],
      "source": [
        "def stream_agent_response(prompt):\n",
        "    response = agent(prompt)\n",
        "    for chunk in response['output']:\n",
        "        print(chunk, end='', flush=True)\n",
        "stream_agent_response('Tell me courses related to social media')"
      ]
    }
  ],
  "metadata": {
    "colab": {
      "provenance": []
    },
    "kernelspec": {
      "display_name": "Python 3",
      "name": "python3"
    },
    "language_info": {
      "name": "python",
      "version": "3.12.5"
    },
    "widgets": {
      "application/vnd.jupyter.widget-state+json": {
        "01cc763bf7a444bd85bb3c691a897fdc": {
          "model_module": "@jupyter-widgets/base",
          "model_module_version": "1.2.0",
          "model_name": "LayoutModel",
          "state": {
            "_model_module": "@jupyter-widgets/base",
            "_model_module_version": "1.2.0",
            "_model_name": "LayoutModel",
            "_view_count": null,
            "_view_module": "@jupyter-widgets/base",
            "_view_module_version": "1.2.0",
            "_view_name": "LayoutView",
            "align_content": null,
            "align_items": null,
            "align_self": null,
            "border": null,
            "bottom": null,
            "display": null,
            "flex": null,
            "flex_flow": null,
            "grid_area": null,
            "grid_auto_columns": null,
            "grid_auto_flow": null,
            "grid_auto_rows": null,
            "grid_column": null,
            "grid_gap": null,
            "grid_row": null,
            "grid_template_areas": null,
            "grid_template_columns": null,
            "grid_template_rows": null,
            "height": null,
            "justify_content": null,
            "justify_items": null,
            "left": null,
            "margin": null,
            "max_height": null,
            "max_width": null,
            "min_height": null,
            "min_width": null,
            "object_fit": null,
            "object_position": null,
            "order": null,
            "overflow": null,
            "overflow_x": null,
            "overflow_y": null,
            "padding": null,
            "right": null,
            "top": null,
            "visibility": null,
            "width": null
          }
        },
        "0ee67dc743e044daa3da19a951c0f11f": {
          "model_module": "@jupyter-widgets/controls",
          "model_module_version": "1.5.0",
          "model_name": "ProgressStyleModel",
          "state": {
            "_model_module": "@jupyter-widgets/controls",
            "_model_module_version": "1.5.0",
            "_model_name": "ProgressStyleModel",
            "_view_count": null,
            "_view_module": "@jupyter-widgets/base",
            "_view_module_version": "1.2.0",
            "_view_name": "StyleView",
            "bar_color": null,
            "description_width": ""
          }
        },
        "18a616c867234a969089f3712d69a032": {
          "model_module": "@jupyter-widgets/controls",
          "model_module_version": "1.5.0",
          "model_name": "HBoxModel",
          "state": {
            "_dom_classes": [],
            "_model_module": "@jupyter-widgets/controls",
            "_model_module_version": "1.5.0",
            "_model_name": "HBoxModel",
            "_view_count": null,
            "_view_module": "@jupyter-widgets/controls",
            "_view_module_version": "1.5.0",
            "_view_name": "HBoxView",
            "box_style": "",
            "children": [
              "IPY_MODEL_d494b37b5e7f4fda95acb6cf8d48b95d",
              "IPY_MODEL_c7ed184bb04e4827950369f5965c964a",
              "IPY_MODEL_456c01e74ea844b2bf727fe291915cc8"
            ],
            "layout": "IPY_MODEL_f13d51ce67634b7c9f72480d0025c338"
          }
        },
        "456c01e74ea844b2bf727fe291915cc8": {
          "model_module": "@jupyter-widgets/controls",
          "model_module_version": "1.5.0",
          "model_name": "HTMLModel",
          "state": {
            "_dom_classes": [],
            "_model_module": "@jupyter-widgets/controls",
            "_model_module_version": "1.5.0",
            "_model_name": "HTMLModel",
            "_view_count": null,
            "_view_module": "@jupyter-widgets/controls",
            "_view_module_version": "1.5.0",
            "_view_name": "HTMLView",
            "description": "",
            "description_tooltip": null,
            "layout": "IPY_MODEL_5dd29ab0672a40b5adbdad86a1f40aa5",
            "placeholder": "​",
            "style": "IPY_MODEL_ac58dda1db7b4212b3e92091cae0f644",
            "value": " 1/1 [00:02&lt;00:00,  2.18s/it]"
          }
        },
        "5dd29ab0672a40b5adbdad86a1f40aa5": {
          "model_module": "@jupyter-widgets/base",
          "model_module_version": "1.2.0",
          "model_name": "LayoutModel",
          "state": {
            "_model_module": "@jupyter-widgets/base",
            "_model_module_version": "1.2.0",
            "_model_name": "LayoutModel",
            "_view_count": null,
            "_view_module": "@jupyter-widgets/base",
            "_view_module_version": "1.2.0",
            "_view_name": "LayoutView",
            "align_content": null,
            "align_items": null,
            "align_self": null,
            "border": null,
            "bottom": null,
            "display": null,
            "flex": null,
            "flex_flow": null,
            "grid_area": null,
            "grid_auto_columns": null,
            "grid_auto_flow": null,
            "grid_auto_rows": null,
            "grid_column": null,
            "grid_gap": null,
            "grid_row": null,
            "grid_template_areas": null,
            "grid_template_columns": null,
            "grid_template_rows": null,
            "height": null,
            "justify_content": null,
            "justify_items": null,
            "left": null,
            "margin": null,
            "max_height": null,
            "max_width": null,
            "min_height": null,
            "min_width": null,
            "object_fit": null,
            "object_position": null,
            "order": null,
            "overflow": null,
            "overflow_x": null,
            "overflow_y": null,
            "padding": null,
            "right": null,
            "top": null,
            "visibility": null,
            "width": null
          }
        },
        "99b7971e465f4a3eb80a7be862e742e1": {
          "model_module": "@jupyter-widgets/controls",
          "model_module_version": "1.5.0",
          "model_name": "DescriptionStyleModel",
          "state": {
            "_model_module": "@jupyter-widgets/controls",
            "_model_module_version": "1.5.0",
            "_model_name": "DescriptionStyleModel",
            "_view_count": null,
            "_view_module": "@jupyter-widgets/base",
            "_view_module_version": "1.2.0",
            "_view_name": "StyleView",
            "description_width": ""
          }
        },
        "ac58dda1db7b4212b3e92091cae0f644": {
          "model_module": "@jupyter-widgets/controls",
          "model_module_version": "1.5.0",
          "model_name": "DescriptionStyleModel",
          "state": {
            "_model_module": "@jupyter-widgets/controls",
            "_model_module_version": "1.5.0",
            "_model_name": "DescriptionStyleModel",
            "_view_count": null,
            "_view_module": "@jupyter-widgets/base",
            "_view_module_version": "1.2.0",
            "_view_name": "StyleView",
            "description_width": ""
          }
        },
        "c7ed184bb04e4827950369f5965c964a": {
          "model_module": "@jupyter-widgets/controls",
          "model_module_version": "1.5.0",
          "model_name": "FloatProgressModel",
          "state": {
            "_dom_classes": [],
            "_model_module": "@jupyter-widgets/controls",
            "_model_module_version": "1.5.0",
            "_model_name": "FloatProgressModel",
            "_view_count": null,
            "_view_module": "@jupyter-widgets/controls",
            "_view_module_version": "1.5.0",
            "_view_name": "ProgressView",
            "bar_style": "success",
            "description": "",
            "description_tooltip": null,
            "layout": "IPY_MODEL_01cc763bf7a444bd85bb3c691a897fdc",
            "max": 1,
            "min": 0,
            "orientation": "horizontal",
            "style": "IPY_MODEL_0ee67dc743e044daa3da19a951c0f11f",
            "value": 1
          }
        },
        "d494b37b5e7f4fda95acb6cf8d48b95d": {
          "model_module": "@jupyter-widgets/controls",
          "model_module_version": "1.5.0",
          "model_name": "HTMLModel",
          "state": {
            "_dom_classes": [],
            "_model_module": "@jupyter-widgets/controls",
            "_model_module_version": "1.5.0",
            "_model_name": "HTMLModel",
            "_view_count": null,
            "_view_module": "@jupyter-widgets/controls",
            "_view_module_version": "1.5.0",
            "_view_name": "HTMLView",
            "description": "",
            "description_tooltip": null,
            "layout": "IPY_MODEL_fc460d6d214748978a1fc2fc5141c386",
            "placeholder": "​",
            "style": "IPY_MODEL_99b7971e465f4a3eb80a7be862e742e1",
            "value": "100%"
          }
        },
        "f13d51ce67634b7c9f72480d0025c338": {
          "model_module": "@jupyter-widgets/base",
          "model_module_version": "1.2.0",
          "model_name": "LayoutModel",
          "state": {
            "_model_module": "@jupyter-widgets/base",
            "_model_module_version": "1.2.0",
            "_model_name": "LayoutModel",
            "_view_count": null,
            "_view_module": "@jupyter-widgets/base",
            "_view_module_version": "1.2.0",
            "_view_name": "LayoutView",
            "align_content": null,
            "align_items": null,
            "align_self": null,
            "border": null,
            "bottom": null,
            "display": null,
            "flex": null,
            "flex_flow": null,
            "grid_area": null,
            "grid_auto_columns": null,
            "grid_auto_flow": null,
            "grid_auto_rows": null,
            "grid_column": null,
            "grid_gap": null,
            "grid_row": null,
            "grid_template_areas": null,
            "grid_template_columns": null,
            "grid_template_rows": null,
            "height": null,
            "justify_content": null,
            "justify_items": null,
            "left": null,
            "margin": null,
            "max_height": null,
            "max_width": null,
            "min_height": null,
            "min_width": null,
            "object_fit": null,
            "object_position": null,
            "order": null,
            "overflow": null,
            "overflow_x": null,
            "overflow_y": null,
            "padding": null,
            "right": null,
            "top": null,
            "visibility": null,
            "width": null
          }
        },
        "fc460d6d214748978a1fc2fc5141c386": {
          "model_module": "@jupyter-widgets/base",
          "model_module_version": "1.2.0",
          "model_name": "LayoutModel",
          "state": {
            "_model_module": "@jupyter-widgets/base",
            "_model_module_version": "1.2.0",
            "_model_name": "LayoutModel",
            "_view_count": null,
            "_view_module": "@jupyter-widgets/base",
            "_view_module_version": "1.2.0",
            "_view_name": "LayoutView",
            "align_content": null,
            "align_items": null,
            "align_self": null,
            "border": null,
            "bottom": null,
            "display": null,
            "flex": null,
            "flex_flow": null,
            "grid_area": null,
            "grid_auto_columns": null,
            "grid_auto_flow": null,
            "grid_auto_rows": null,
            "grid_column": null,
            "grid_gap": null,
            "grid_row": null,
            "grid_template_areas": null,
            "grid_template_columns": null,
            "grid_template_rows": null,
            "height": null,
            "justify_content": null,
            "justify_items": null,
            "left": null,
            "margin": null,
            "max_height": null,
            "max_width": null,
            "min_height": null,
            "min_width": null,
            "object_fit": null,
            "object_position": null,
            "order": null,
            "overflow": null,
            "overflow_x": null,
            "overflow_y": null,
            "padding": null,
            "right": null,
            "top": null,
            "visibility": null,
            "width": null
          }
        }
      }
    }
  },
  "nbformat": 4,
  "nbformat_minor": 0
}
